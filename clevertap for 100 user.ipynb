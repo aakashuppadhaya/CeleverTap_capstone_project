{
 "cells": [
  {
   "cell_type": "code",
   "execution_count": 1,
   "metadata": {},
   "outputs": [],
   "source": [
    " #inialization set up\n",
    "import numpy as np\n",
    "import pandas as pd\n",
    "import matplotlib.pyplot as plt\n",
    "import seaborn as sns"
   ]
  },
  {
   "cell_type": "code",
   "execution_count": 2,
   "metadata": {},
   "outputs": [],
   "source": [
    "import graphlab as gp"
   ]
  },
  {
   "cell_type": "code",
   "execution_count": 13,
   "metadata": {},
   "outputs": [],
   "source": [
    "df_video_started=pd.read_csv('VideoStarted.csv')"
   ]
  },
  {
   "cell_type": "code",
   "execution_count": 14,
   "metadata": {},
   "outputs": [],
   "source": [
    "df_video_started['Date'] = df_video_started['Date'].apply(str)\n",
    "df_video_started['Date']=pd.to_datetime(df_video_started['Date'], format='%Y%m%d', errors='ignore')\n",
    "df_video_started['Timestamp']=pd.to_datetime(df_video_started.Date) + pd.to_timedelta(df_video_started.Minute_Of_Day, unit='m') + pd.to_timedelta(df_video_started.Second, unit='s')"
   ]
  },
  {
   "cell_type": "code",
   "execution_count": 15,
   "metadata": {},
   "outputs": [
    {
     "data": {
      "text/html": [
       "<div>\n",
       "<style scoped>\n",
       "    .dataframe tbody tr th:only-of-type {\n",
       "        vertical-align: middle;\n",
       "    }\n",
       "\n",
       "    .dataframe tbody tr th {\n",
       "        vertical-align: top;\n",
       "    }\n",
       "\n",
       "    .dataframe thead th {\n",
       "        text-align: right;\n",
       "    }\n",
       "</style>\n",
       "<table border=\"1\" class=\"dataframe\">\n",
       "  <thead>\n",
       "    <tr style=\"text-align: right;\">\n",
       "      <th></th>\n",
       "      <th>UserId</th>\n",
       "    </tr>\n",
       "  </thead>\n",
       "  <tbody>\n",
       "    <tr>\n",
       "      <th>0</th>\n",
       "      <td>00ee914cf7e4de6e8aa1c37c8dfc828b</td>\n",
       "    </tr>\n",
       "    <tr>\n",
       "      <th>1</th>\n",
       "      <td>0d5fea8db4183c66898b17bf2f466d2f</td>\n",
       "    </tr>\n",
       "    <tr>\n",
       "      <th>2</th>\n",
       "      <td>aa18c780981c8ed0d949328dbe29cd62</td>\n",
       "    </tr>\n",
       "    <tr>\n",
       "      <th>3</th>\n",
       "      <td>6bfd2ce12162d39c635b9df4b42c874a</td>\n",
       "    </tr>\n",
       "    <tr>\n",
       "      <th>4</th>\n",
       "      <td>85b78f2f3058459dcc069a4253993c19</td>\n",
       "    </tr>\n",
       "    <tr>\n",
       "      <th>5</th>\n",
       "      <td>e788fd90d74e5471a690e21507bac453</td>\n",
       "    </tr>\n",
       "    <tr>\n",
       "      <th>6</th>\n",
       "      <td>a3083f8959b4922ad9cd61ae05115fcc</td>\n",
       "    </tr>\n",
       "    <tr>\n",
       "      <th>7</th>\n",
       "      <td>cca521d6327edbcdf52543007611054c</td>\n",
       "    </tr>\n",
       "    <tr>\n",
       "      <th>8</th>\n",
       "      <td>ad4b2c1cf6ceaac9f41e32614f95bfb7</td>\n",
       "    </tr>\n",
       "    <tr>\n",
       "      <th>9</th>\n",
       "      <td>8b26b87bc40cafbfd9dbae16710330a6</td>\n",
       "    </tr>\n",
       "    <tr>\n",
       "      <th>10</th>\n",
       "      <td>0eb7d34757413d3b7780e77cd73a5f05</td>\n",
       "    </tr>\n",
       "    <tr>\n",
       "      <th>11</th>\n",
       "      <td>d88419f59b0016c607ff35c7710de25c</td>\n",
       "    </tr>\n",
       "    <tr>\n",
       "      <th>12</th>\n",
       "      <td>27687e0af314b54c467318666e0f26a2</td>\n",
       "    </tr>\n",
       "    <tr>\n",
       "      <th>13</th>\n",
       "      <td>4029f5c0c1836cba8ce07427ab5d9b5a</td>\n",
       "    </tr>\n",
       "    <tr>\n",
       "      <th>14</th>\n",
       "      <td>2acb674c259dca5eb541d86ba0d9b122</td>\n",
       "    </tr>\n",
       "    <tr>\n",
       "      <th>15</th>\n",
       "      <td>d6faf102a19a624a6ccfd6c3312d2d47</td>\n",
       "    </tr>\n",
       "    <tr>\n",
       "      <th>16</th>\n",
       "      <td>3d36284d75af6087e5e1afba17b5014c</td>\n",
       "    </tr>\n",
       "    <tr>\n",
       "      <th>17</th>\n",
       "      <td>96804b682b3a16ea67fcf786718ed223</td>\n",
       "    </tr>\n",
       "    <tr>\n",
       "      <th>18</th>\n",
       "      <td>72f86c43f7157f03ea772a6b2d3a283c</td>\n",
       "    </tr>\n",
       "    <tr>\n",
       "      <th>19</th>\n",
       "      <td>df3593d225cc55657419debaf57d25b0</td>\n",
       "    </tr>\n",
       "    <tr>\n",
       "      <th>20</th>\n",
       "      <td>44190a42aee0b3d95658d9a5f4d9d277</td>\n",
       "    </tr>\n",
       "    <tr>\n",
       "      <th>21</th>\n",
       "      <td>ebeace6ee2fb02bc4f8aef3afce5f6b3</td>\n",
       "    </tr>\n",
       "    <tr>\n",
       "      <th>22</th>\n",
       "      <td>420f199a649f5f6bd3d61aa3e5ca665d</td>\n",
       "    </tr>\n",
       "    <tr>\n",
       "      <th>23</th>\n",
       "      <td>0f2013939777e544d4fbaece8e31dec6</td>\n",
       "    </tr>\n",
       "    <tr>\n",
       "      <th>24</th>\n",
       "      <td>87fa5e4f74624d6ea9148d988c9cd50f</td>\n",
       "    </tr>\n",
       "    <tr>\n",
       "      <th>25</th>\n",
       "      <td>7e2e156b5aaec5df87ce381995a5d27e</td>\n",
       "    </tr>\n",
       "    <tr>\n",
       "      <th>26</th>\n",
       "      <td>8832c7c8b06c17ab16b5e4e51092890f</td>\n",
       "    </tr>\n",
       "    <tr>\n",
       "      <th>27</th>\n",
       "      <td>7f7ebc69c7c8f00cfdd2d2438e6feea2</td>\n",
       "    </tr>\n",
       "    <tr>\n",
       "      <th>28</th>\n",
       "      <td>3305d2edce820a77485f9b365e01f5a6</td>\n",
       "    </tr>\n",
       "    <tr>\n",
       "      <th>29</th>\n",
       "      <td>3e8d4bbd9a2fbc38d3d12a7e600890e9</td>\n",
       "    </tr>\n",
       "    <tr>\n",
       "      <th>...</th>\n",
       "      <td>...</td>\n",
       "    </tr>\n",
       "    <tr>\n",
       "      <th>70</th>\n",
       "      <td>181c42548460a9421d68a24cb8acbf1c</td>\n",
       "    </tr>\n",
       "    <tr>\n",
       "      <th>71</th>\n",
       "      <td>93ef641ec4557809b0b8bdf58b939067</td>\n",
       "    </tr>\n",
       "    <tr>\n",
       "      <th>72</th>\n",
       "      <td>d93dd2ed1b615f100965dd15801d88d9</td>\n",
       "    </tr>\n",
       "    <tr>\n",
       "      <th>73</th>\n",
       "      <td>982a362079de3323a29851b3940a6bd6</td>\n",
       "    </tr>\n",
       "    <tr>\n",
       "      <th>74</th>\n",
       "      <td>776abfc8fe707499259325eced9583bc</td>\n",
       "    </tr>\n",
       "    <tr>\n",
       "      <th>75</th>\n",
       "      <td>c508395e3ce17cb00b41f5a50c1b3c22</td>\n",
       "    </tr>\n",
       "    <tr>\n",
       "      <th>76</th>\n",
       "      <td>60e1803361321b88054225eccb2d6d88</td>\n",
       "    </tr>\n",
       "    <tr>\n",
       "      <th>77</th>\n",
       "      <td>cad8b273c7d4a463ff34c7a4e69f18ba</td>\n",
       "    </tr>\n",
       "    <tr>\n",
       "      <th>78</th>\n",
       "      <td>a087e8bb346fdda55a144115bdcb8652</td>\n",
       "    </tr>\n",
       "    <tr>\n",
       "      <th>79</th>\n",
       "      <td>c638635a09c873f5845bac61d394fbd7</td>\n",
       "    </tr>\n",
       "    <tr>\n",
       "      <th>80</th>\n",
       "      <td>194fcf3a512e31b1031ac03d0b5ce7c7</td>\n",
       "    </tr>\n",
       "    <tr>\n",
       "      <th>81</th>\n",
       "      <td>0d5d83812befea3fdf935f80722f5196</td>\n",
       "    </tr>\n",
       "    <tr>\n",
       "      <th>82</th>\n",
       "      <td>a11b6ea44f4466f570b02c6a548d52fe</td>\n",
       "    </tr>\n",
       "    <tr>\n",
       "      <th>83</th>\n",
       "      <td>aa23caaede9b63d8f908720809c13a4d</td>\n",
       "    </tr>\n",
       "    <tr>\n",
       "      <th>84</th>\n",
       "      <td>4709c14a4f116b3e3f2f46c8941d30e3</td>\n",
       "    </tr>\n",
       "    <tr>\n",
       "      <th>85</th>\n",
       "      <td>eeecd6853555e94e2b5b0cdf9591ce9a</td>\n",
       "    </tr>\n",
       "    <tr>\n",
       "      <th>86</th>\n",
       "      <td>0908779cb812132f860cf75e36a38862</td>\n",
       "    </tr>\n",
       "    <tr>\n",
       "      <th>87</th>\n",
       "      <td>06dc5d32342e463a35feef913d8a253b</td>\n",
       "    </tr>\n",
       "    <tr>\n",
       "      <th>88</th>\n",
       "      <td>7de96d05143872c08254eb81931d1c04</td>\n",
       "    </tr>\n",
       "    <tr>\n",
       "      <th>89</th>\n",
       "      <td>078ecb869f0eaf6641f9542d14a18695</td>\n",
       "    </tr>\n",
       "    <tr>\n",
       "      <th>90</th>\n",
       "      <td>35a6e2d682da9d63db41deadfcee3ee7</td>\n",
       "    </tr>\n",
       "    <tr>\n",
       "      <th>91</th>\n",
       "      <td>8218ca8b07940eb46bad0ed58be53324</td>\n",
       "    </tr>\n",
       "    <tr>\n",
       "      <th>92</th>\n",
       "      <td>26b32e7185ab7d6b145733eba286411b</td>\n",
       "    </tr>\n",
       "    <tr>\n",
       "      <th>93</th>\n",
       "      <td>6672781238882e2b3e12e066be034d69</td>\n",
       "    </tr>\n",
       "    <tr>\n",
       "      <th>94</th>\n",
       "      <td>831b7415d7f5f48bb590af5cf4b118dc</td>\n",
       "    </tr>\n",
       "    <tr>\n",
       "      <th>95</th>\n",
       "      <td>92a49661e314a4d2bbcef45b49af27e2</td>\n",
       "    </tr>\n",
       "    <tr>\n",
       "      <th>96</th>\n",
       "      <td>d2bfcce5f5e52e2fa567bc61fee14279</td>\n",
       "    </tr>\n",
       "    <tr>\n",
       "      <th>97</th>\n",
       "      <td>fd83ee720debc77cd9670d9a19fa1fe7</td>\n",
       "    </tr>\n",
       "    <tr>\n",
       "      <th>98</th>\n",
       "      <td>a968e2000393859118b5b144d017d195</td>\n",
       "    </tr>\n",
       "    <tr>\n",
       "      <th>99</th>\n",
       "      <td>f88e62a761630ed86eecc79ed608a677</td>\n",
       "    </tr>\n",
       "  </tbody>\n",
       "</table>\n",
       "<p>100 rows × 1 columns</p>\n",
       "</div>"
      ],
      "text/plain": [
       "                              UserId\n",
       "0   00ee914cf7e4de6e8aa1c37c8dfc828b\n",
       "1   0d5fea8db4183c66898b17bf2f466d2f\n",
       "2   aa18c780981c8ed0d949328dbe29cd62\n",
       "3   6bfd2ce12162d39c635b9df4b42c874a\n",
       "4   85b78f2f3058459dcc069a4253993c19\n",
       "5   e788fd90d74e5471a690e21507bac453\n",
       "6   a3083f8959b4922ad9cd61ae05115fcc\n",
       "7   cca521d6327edbcdf52543007611054c\n",
       "8   ad4b2c1cf6ceaac9f41e32614f95bfb7\n",
       "9   8b26b87bc40cafbfd9dbae16710330a6\n",
       "10  0eb7d34757413d3b7780e77cd73a5f05\n",
       "11  d88419f59b0016c607ff35c7710de25c\n",
       "12  27687e0af314b54c467318666e0f26a2\n",
       "13  4029f5c0c1836cba8ce07427ab5d9b5a\n",
       "14  2acb674c259dca5eb541d86ba0d9b122\n",
       "15  d6faf102a19a624a6ccfd6c3312d2d47\n",
       "16  3d36284d75af6087e5e1afba17b5014c\n",
       "17  96804b682b3a16ea67fcf786718ed223\n",
       "18  72f86c43f7157f03ea772a6b2d3a283c\n",
       "19  df3593d225cc55657419debaf57d25b0\n",
       "20  44190a42aee0b3d95658d9a5f4d9d277\n",
       "21  ebeace6ee2fb02bc4f8aef3afce5f6b3\n",
       "22  420f199a649f5f6bd3d61aa3e5ca665d\n",
       "23  0f2013939777e544d4fbaece8e31dec6\n",
       "24  87fa5e4f74624d6ea9148d988c9cd50f\n",
       "25  7e2e156b5aaec5df87ce381995a5d27e\n",
       "26  8832c7c8b06c17ab16b5e4e51092890f\n",
       "27  7f7ebc69c7c8f00cfdd2d2438e6feea2\n",
       "28  3305d2edce820a77485f9b365e01f5a6\n",
       "29  3e8d4bbd9a2fbc38d3d12a7e600890e9\n",
       "..                               ...\n",
       "70  181c42548460a9421d68a24cb8acbf1c\n",
       "71  93ef641ec4557809b0b8bdf58b939067\n",
       "72  d93dd2ed1b615f100965dd15801d88d9\n",
       "73  982a362079de3323a29851b3940a6bd6\n",
       "74  776abfc8fe707499259325eced9583bc\n",
       "75  c508395e3ce17cb00b41f5a50c1b3c22\n",
       "76  60e1803361321b88054225eccb2d6d88\n",
       "77  cad8b273c7d4a463ff34c7a4e69f18ba\n",
       "78  a087e8bb346fdda55a144115bdcb8652\n",
       "79  c638635a09c873f5845bac61d394fbd7\n",
       "80  194fcf3a512e31b1031ac03d0b5ce7c7\n",
       "81  0d5d83812befea3fdf935f80722f5196\n",
       "82  a11b6ea44f4466f570b02c6a548d52fe\n",
       "83  aa23caaede9b63d8f908720809c13a4d\n",
       "84  4709c14a4f116b3e3f2f46c8941d30e3\n",
       "85  eeecd6853555e94e2b5b0cdf9591ce9a\n",
       "86  0908779cb812132f860cf75e36a38862\n",
       "87  06dc5d32342e463a35feef913d8a253b\n",
       "88  7de96d05143872c08254eb81931d1c04\n",
       "89  078ecb869f0eaf6641f9542d14a18695\n",
       "90  35a6e2d682da9d63db41deadfcee3ee7\n",
       "91  8218ca8b07940eb46bad0ed58be53324\n",
       "92  26b32e7185ab7d6b145733eba286411b\n",
       "93  6672781238882e2b3e12e066be034d69\n",
       "94  831b7415d7f5f48bb590af5cf4b118dc\n",
       "95  92a49661e314a4d2bbcef45b49af27e2\n",
       "96  d2bfcce5f5e52e2fa567bc61fee14279\n",
       "97  fd83ee720debc77cd9670d9a19fa1fe7\n",
       "98  a968e2000393859118b5b144d017d195\n",
       "99  f88e62a761630ed86eecc79ed608a677\n",
       "\n",
       "[100 rows x 1 columns]"
      ]
     },
     "execution_count": 15,
     "metadata": {},
     "output_type": "execute_result"
    }
   ],
   "source": [
    "temp=df_video_started['UserId'].value_counts()\n",
    "userid=temp[(temp.values >50) & (temp.values <150)].index.tolist()\n",
    "# converting userid list to datframe\n",
    "useridu = pd.DataFrame({'UserId':userid})\n",
    "# selecting only 100 rows\n",
    "useridun = useridu[:100]\n",
    "useridun"
   ]
  },
  {
   "cell_type": "code",
   "execution_count": 16,
   "metadata": {},
   "outputs": [
    {
     "data": {
      "text/html": [
       "<div>\n",
       "<style scoped>\n",
       "    .dataframe tbody tr th:only-of-type {\n",
       "        vertical-align: middle;\n",
       "    }\n",
       "\n",
       "    .dataframe tbody tr th {\n",
       "        vertical-align: top;\n",
       "    }\n",
       "\n",
       "    .dataframe thead th {\n",
       "        text-align: right;\n",
       "    }\n",
       "</style>\n",
       "<table border=\"1\" class=\"dataframe\">\n",
       "  <thead>\n",
       "    <tr style=\"text-align: right;\">\n",
       "      <th></th>\n",
       "      <th>UserId</th>\n",
       "      <th>Date</th>\n",
       "      <th>Minute_Of_Day</th>\n",
       "      <th>Second</th>\n",
       "      <th>State</th>\n",
       "      <th>Genre</th>\n",
       "      <th>Category</th>\n",
       "      <th>ProgramType</th>\n",
       "      <th>Country</th>\n",
       "      <th>Device</th>\n",
       "      <th>OS</th>\n",
       "      <th>VideoId</th>\n",
       "      <th>Timestamp</th>\n",
       "    </tr>\n",
       "  </thead>\n",
       "  <tbody>\n",
       "    <tr>\n",
       "      <th>0</th>\n",
       "      <td>00ee914cf7e4de6e8aa1c37c8dfc828b</td>\n",
       "      <td>2017-03-06</td>\n",
       "      <td>1253</td>\n",
       "      <td>36</td>\n",
       "      <td>35</td>\n",
       "      <td>Drama</td>\n",
       "      <td>vod</td>\n",
       "      <td>TV Shows</td>\n",
       "      <td>1</td>\n",
       "      <td>1</td>\n",
       "      <td>1</td>\n",
       "      <td>a7a2897105f3dc7b207d016ebc1085da</td>\n",
       "      <td>2017-03-06 20:53:36</td>\n",
       "    </tr>\n",
       "    <tr>\n",
       "      <th>1</th>\n",
       "      <td>00ee914cf7e4de6e8aa1c37c8dfc828b</td>\n",
       "      <td>2017-03-09</td>\n",
       "      <td>1185</td>\n",
       "      <td>52</td>\n",
       "      <td>35</td>\n",
       "      <td>Drama</td>\n",
       "      <td>vod</td>\n",
       "      <td>TV Shows</td>\n",
       "      <td>1</td>\n",
       "      <td>1</td>\n",
       "      <td>1</td>\n",
       "      <td>66acb1c6dfce53ba24a5662e5d9c1253</td>\n",
       "      <td>2017-03-09 19:45:52</td>\n",
       "    </tr>\n",
       "    <tr>\n",
       "      <th>2</th>\n",
       "      <td>00ee914cf7e4de6e8aa1c37c8dfc828b</td>\n",
       "      <td>2017-03-09</td>\n",
       "      <td>1186</td>\n",
       "      <td>0</td>\n",
       "      <td>35</td>\n",
       "      <td>Drama</td>\n",
       "      <td>vod</td>\n",
       "      <td>TV Shows</td>\n",
       "      <td>1</td>\n",
       "      <td>1</td>\n",
       "      <td>1</td>\n",
       "      <td>66acb1c6dfce53ba24a5662e5d9c1253</td>\n",
       "      <td>2017-03-09 19:46:00</td>\n",
       "    </tr>\n",
       "    <tr>\n",
       "      <th>3</th>\n",
       "      <td>00ee914cf7e4de6e8aa1c37c8dfc828b</td>\n",
       "      <td>2017-03-10</td>\n",
       "      <td>250</td>\n",
       "      <td>40</td>\n",
       "      <td>35</td>\n",
       "      <td>Drama</td>\n",
       "      <td>vod</td>\n",
       "      <td>TV Shows</td>\n",
       "      <td>1</td>\n",
       "      <td>1</td>\n",
       "      <td>1</td>\n",
       "      <td>66acb1c6dfce53ba24a5662e5d9c1253</td>\n",
       "      <td>2017-03-10 04:10:40</td>\n",
       "    </tr>\n",
       "    <tr>\n",
       "      <th>4</th>\n",
       "      <td>00ee914cf7e4de6e8aa1c37c8dfc828b</td>\n",
       "      <td>2017-03-10</td>\n",
       "      <td>250</td>\n",
       "      <td>52</td>\n",
       "      <td>35</td>\n",
       "      <td>Drama</td>\n",
       "      <td>vod</td>\n",
       "      <td>TV Shows</td>\n",
       "      <td>1</td>\n",
       "      <td>1</td>\n",
       "      <td>1</td>\n",
       "      <td>66acb1c6dfce53ba24a5662e5d9c1253</td>\n",
       "      <td>2017-03-10 04:10:52</td>\n",
       "    </tr>\n",
       "    <tr>\n",
       "      <th>5</th>\n",
       "      <td>00ee914cf7e4de6e8aa1c37c8dfc828b</td>\n",
       "      <td>2017-03-10</td>\n",
       "      <td>679</td>\n",
       "      <td>20</td>\n",
       "      <td>35</td>\n",
       "      <td>Drama</td>\n",
       "      <td>vod</td>\n",
       "      <td>TV Shows</td>\n",
       "      <td>1</td>\n",
       "      <td>1</td>\n",
       "      <td>1</td>\n",
       "      <td>b92cb0381d7be6d452b3e8168c5d9f41</td>\n",
       "      <td>2017-03-10 11:19:20</td>\n",
       "    </tr>\n",
       "    <tr>\n",
       "      <th>6</th>\n",
       "      <td>00ee914cf7e4de6e8aa1c37c8dfc828b</td>\n",
       "      <td>2017-03-10</td>\n",
       "      <td>708</td>\n",
       "      <td>32</td>\n",
       "      <td>35</td>\n",
       "      <td>Drama</td>\n",
       "      <td>vod</td>\n",
       "      <td>TV Shows</td>\n",
       "      <td>1</td>\n",
       "      <td>1</td>\n",
       "      <td>1</td>\n",
       "      <td>b92cb0381d7be6d452b3e8168c5d9f41</td>\n",
       "      <td>2017-03-10 11:48:32</td>\n",
       "    </tr>\n",
       "    <tr>\n",
       "      <th>7</th>\n",
       "      <td>00ee914cf7e4de6e8aa1c37c8dfc828b</td>\n",
       "      <td>2017-03-10</td>\n",
       "      <td>708</td>\n",
       "      <td>36</td>\n",
       "      <td>35</td>\n",
       "      <td>Drama</td>\n",
       "      <td>vod</td>\n",
       "      <td>TV Shows</td>\n",
       "      <td>1</td>\n",
       "      <td>1</td>\n",
       "      <td>1</td>\n",
       "      <td>b92cb0381d7be6d452b3e8168c5d9f41</td>\n",
       "      <td>2017-03-10 11:48:36</td>\n",
       "    </tr>\n",
       "    <tr>\n",
       "      <th>8</th>\n",
       "      <td>00ee914cf7e4de6e8aa1c37c8dfc828b</td>\n",
       "      <td>2017-03-10</td>\n",
       "      <td>1325</td>\n",
       "      <td>16</td>\n",
       "      <td>35</td>\n",
       "      <td>Drama</td>\n",
       "      <td>vod</td>\n",
       "      <td>TV Shows</td>\n",
       "      <td>1</td>\n",
       "      <td>1</td>\n",
       "      <td>1</td>\n",
       "      <td>3123a0e697627e4943498ee901e0aba4</td>\n",
       "      <td>2017-03-10 22:05:16</td>\n",
       "    </tr>\n",
       "    <tr>\n",
       "      <th>9</th>\n",
       "      <td>00ee914cf7e4de6e8aa1c37c8dfc828b</td>\n",
       "      <td>2017-03-10</td>\n",
       "      <td>1326</td>\n",
       "      <td>52</td>\n",
       "      <td>35</td>\n",
       "      <td>Drama</td>\n",
       "      <td>vod</td>\n",
       "      <td>TV Shows</td>\n",
       "      <td>1</td>\n",
       "      <td>1</td>\n",
       "      <td>1</td>\n",
       "      <td>5677549014e0f24dc5bd15696be74c25</td>\n",
       "      <td>2017-03-10 22:06:52</td>\n",
       "    </tr>\n",
       "    <tr>\n",
       "      <th>10</th>\n",
       "      <td>00ee914cf7e4de6e8aa1c37c8dfc828b</td>\n",
       "      <td>2017-03-11</td>\n",
       "      <td>427</td>\n",
       "      <td>48</td>\n",
       "      <td>35</td>\n",
       "      <td>Drama</td>\n",
       "      <td>vod</td>\n",
       "      <td>TV Shows</td>\n",
       "      <td>1</td>\n",
       "      <td>1</td>\n",
       "      <td>1</td>\n",
       "      <td>20e4787e72962583f71e3d7c9d46a481</td>\n",
       "      <td>2017-03-11 07:07:48</td>\n",
       "    </tr>\n",
       "    <tr>\n",
       "      <th>11</th>\n",
       "      <td>00ee914cf7e4de6e8aa1c37c8dfc828b</td>\n",
       "      <td>2017-03-11</td>\n",
       "      <td>591</td>\n",
       "      <td>52</td>\n",
       "      <td>35</td>\n",
       "      <td>Drama</td>\n",
       "      <td>vod</td>\n",
       "      <td>TV Shows</td>\n",
       "      <td>1</td>\n",
       "      <td>1</td>\n",
       "      <td>1</td>\n",
       "      <td>48541c8371781f489d6bbc902b58fc87</td>\n",
       "      <td>2017-03-11 09:51:52</td>\n",
       "    </tr>\n",
       "    <tr>\n",
       "      <th>12</th>\n",
       "      <td>00ee914cf7e4de6e8aa1c37c8dfc828b</td>\n",
       "      <td>2017-03-11</td>\n",
       "      <td>785</td>\n",
       "      <td>48</td>\n",
       "      <td>35</td>\n",
       "      <td>Drama</td>\n",
       "      <td>vod</td>\n",
       "      <td>TV Shows</td>\n",
       "      <td>1</td>\n",
       "      <td>1</td>\n",
       "      <td>1</td>\n",
       "      <td>cd4d67d6950dde9c8c4a7c384f1bdd8d</td>\n",
       "      <td>2017-03-11 13:05:48</td>\n",
       "    </tr>\n",
       "    <tr>\n",
       "      <th>13</th>\n",
       "      <td>00ee914cf7e4de6e8aa1c37c8dfc828b</td>\n",
       "      <td>2017-03-11</td>\n",
       "      <td>792</td>\n",
       "      <td>52</td>\n",
       "      <td>35</td>\n",
       "      <td>Drama</td>\n",
       "      <td>vod</td>\n",
       "      <td>TV Shows</td>\n",
       "      <td>1</td>\n",
       "      <td>1</td>\n",
       "      <td>1</td>\n",
       "      <td>cd4d67d6950dde9c8c4a7c384f1bdd8d</td>\n",
       "      <td>2017-03-11 13:12:52</td>\n",
       "    </tr>\n",
       "    <tr>\n",
       "      <th>14</th>\n",
       "      <td>00ee914cf7e4de6e8aa1c37c8dfc828b</td>\n",
       "      <td>2017-03-11</td>\n",
       "      <td>844</td>\n",
       "      <td>32</td>\n",
       "      <td>35</td>\n",
       "      <td>Drama</td>\n",
       "      <td>vod</td>\n",
       "      <td>TV Shows</td>\n",
       "      <td>1</td>\n",
       "      <td>1</td>\n",
       "      <td>1</td>\n",
       "      <td>45767e1b0425420441e358ca49c614d9</td>\n",
       "      <td>2017-03-11 14:04:32</td>\n",
       "    </tr>\n",
       "    <tr>\n",
       "      <th>15</th>\n",
       "      <td>00ee914cf7e4de6e8aa1c37c8dfc828b</td>\n",
       "      <td>2017-03-11</td>\n",
       "      <td>911</td>\n",
       "      <td>24</td>\n",
       "      <td>35</td>\n",
       "      <td>Drama</td>\n",
       "      <td>vod</td>\n",
       "      <td>TV Shows</td>\n",
       "      <td>1</td>\n",
       "      <td>1</td>\n",
       "      <td>1</td>\n",
       "      <td>10d43f92d0b839bf078e9ececfcee4ce</td>\n",
       "      <td>2017-03-11 15:11:24</td>\n",
       "    </tr>\n",
       "    <tr>\n",
       "      <th>16</th>\n",
       "      <td>00ee914cf7e4de6e8aa1c37c8dfc828b</td>\n",
       "      <td>2017-03-11</td>\n",
       "      <td>927</td>\n",
       "      <td>32</td>\n",
       "      <td>35</td>\n",
       "      <td>Drama</td>\n",
       "      <td>vod</td>\n",
       "      <td>TV Shows</td>\n",
       "      <td>1</td>\n",
       "      <td>1</td>\n",
       "      <td>1</td>\n",
       "      <td>10d43f92d0b839bf078e9ececfcee4ce</td>\n",
       "      <td>2017-03-11 15:27:32</td>\n",
       "    </tr>\n",
       "    <tr>\n",
       "      <th>17</th>\n",
       "      <td>00ee914cf7e4de6e8aa1c37c8dfc828b</td>\n",
       "      <td>2017-03-11</td>\n",
       "      <td>1082</td>\n",
       "      <td>36</td>\n",
       "      <td>35</td>\n",
       "      <td>Drama</td>\n",
       "      <td>vod</td>\n",
       "      <td>TV Shows</td>\n",
       "      <td>1</td>\n",
       "      <td>1</td>\n",
       "      <td>1</td>\n",
       "      <td>1b6787994a6841f459f5f2e03ce9e9a4</td>\n",
       "      <td>2017-03-11 18:02:36</td>\n",
       "    </tr>\n",
       "    <tr>\n",
       "      <th>18</th>\n",
       "      <td>00ee914cf7e4de6e8aa1c37c8dfc828b</td>\n",
       "      <td>2017-03-12</td>\n",
       "      <td>294</td>\n",
       "      <td>20</td>\n",
       "      <td>35</td>\n",
       "      <td>Drama</td>\n",
       "      <td>vod</td>\n",
       "      <td>TV Shows</td>\n",
       "      <td>1</td>\n",
       "      <td>1</td>\n",
       "      <td>1</td>\n",
       "      <td>a2cbe05688575114e24298c280743735</td>\n",
       "      <td>2017-03-12 04:54:20</td>\n",
       "    </tr>\n",
       "    <tr>\n",
       "      <th>19</th>\n",
       "      <td>00ee914cf7e4de6e8aa1c37c8dfc828b</td>\n",
       "      <td>2017-03-12</td>\n",
       "      <td>574</td>\n",
       "      <td>48</td>\n",
       "      <td>35</td>\n",
       "      <td>Drama</td>\n",
       "      <td>vod</td>\n",
       "      <td>TV Shows</td>\n",
       "      <td>1</td>\n",
       "      <td>1</td>\n",
       "      <td>1</td>\n",
       "      <td>9dc89274c883a2fbda72b5d8db21193a</td>\n",
       "      <td>2017-03-12 09:34:48</td>\n",
       "    </tr>\n",
       "    <tr>\n",
       "      <th>20</th>\n",
       "      <td>00ee914cf7e4de6e8aa1c37c8dfc828b</td>\n",
       "      <td>2017-03-12</td>\n",
       "      <td>592</td>\n",
       "      <td>0</td>\n",
       "      <td>35</td>\n",
       "      <td>Drama</td>\n",
       "      <td>vod</td>\n",
       "      <td>TV Shows</td>\n",
       "      <td>1</td>\n",
       "      <td>1</td>\n",
       "      <td>1</td>\n",
       "      <td>3e808ec9a886535dc07264c0c692d920</td>\n",
       "      <td>2017-03-12 09:52:00</td>\n",
       "    </tr>\n",
       "    <tr>\n",
       "      <th>21</th>\n",
       "      <td>00ee914cf7e4de6e8aa1c37c8dfc828b</td>\n",
       "      <td>2017-03-12</td>\n",
       "      <td>777</td>\n",
       "      <td>0</td>\n",
       "      <td>35</td>\n",
       "      <td>Drama</td>\n",
       "      <td>vod</td>\n",
       "      <td>TV Shows</td>\n",
       "      <td>1</td>\n",
       "      <td>1</td>\n",
       "      <td>1</td>\n",
       "      <td>5f7f803e83af96375f50f1788d4092b4</td>\n",
       "      <td>2017-03-12 12:57:00</td>\n",
       "    </tr>\n",
       "    <tr>\n",
       "      <th>22</th>\n",
       "      <td>00ee914cf7e4de6e8aa1c37c8dfc828b</td>\n",
       "      <td>2017-03-12</td>\n",
       "      <td>779</td>\n",
       "      <td>56</td>\n",
       "      <td>35</td>\n",
       "      <td>Drama</td>\n",
       "      <td>vod</td>\n",
       "      <td>TV Shows</td>\n",
       "      <td>1</td>\n",
       "      <td>1</td>\n",
       "      <td>1</td>\n",
       "      <td>3e808ec9a886535dc07264c0c692d920</td>\n",
       "      <td>2017-03-12 12:59:56</td>\n",
       "    </tr>\n",
       "    <tr>\n",
       "      <th>23</th>\n",
       "      <td>00ee914cf7e4de6e8aa1c37c8dfc828b</td>\n",
       "      <td>2017-03-12</td>\n",
       "      <td>779</td>\n",
       "      <td>56</td>\n",
       "      <td>35</td>\n",
       "      <td>Drama</td>\n",
       "      <td>vod</td>\n",
       "      <td>TV Shows</td>\n",
       "      <td>1</td>\n",
       "      <td>1</td>\n",
       "      <td>1</td>\n",
       "      <td>3e808ec9a886535dc07264c0c692d920</td>\n",
       "      <td>2017-03-12 12:59:56</td>\n",
       "    </tr>\n",
       "    <tr>\n",
       "      <th>24</th>\n",
       "      <td>00ee914cf7e4de6e8aa1c37c8dfc828b</td>\n",
       "      <td>2017-03-12</td>\n",
       "      <td>901</td>\n",
       "      <td>16</td>\n",
       "      <td>35</td>\n",
       "      <td>Drama</td>\n",
       "      <td>vod</td>\n",
       "      <td>TV Shows</td>\n",
       "      <td>1</td>\n",
       "      <td>1</td>\n",
       "      <td>1</td>\n",
       "      <td>2d6cb81d6f7a34eac0608ee35a9f6a96</td>\n",
       "      <td>2017-03-12 15:01:16</td>\n",
       "    </tr>\n",
       "    <tr>\n",
       "      <th>25</th>\n",
       "      <td>00ee914cf7e4de6e8aa1c37c8dfc828b</td>\n",
       "      <td>2017-03-12</td>\n",
       "      <td>1100</td>\n",
       "      <td>40</td>\n",
       "      <td>35</td>\n",
       "      <td>Drama</td>\n",
       "      <td>vod</td>\n",
       "      <td>TV Shows</td>\n",
       "      <td>1</td>\n",
       "      <td>1</td>\n",
       "      <td>1</td>\n",
       "      <td>eed024bc065482d3ad8a354326a195ad</td>\n",
       "      <td>2017-03-12 18:20:40</td>\n",
       "    </tr>\n",
       "    <tr>\n",
       "      <th>26</th>\n",
       "      <td>00ee914cf7e4de6e8aa1c37c8dfc828b</td>\n",
       "      <td>2017-03-12</td>\n",
       "      <td>1239</td>\n",
       "      <td>28</td>\n",
       "      <td>35</td>\n",
       "      <td>Drama</td>\n",
       "      <td>vod</td>\n",
       "      <td>TV Shows</td>\n",
       "      <td>1</td>\n",
       "      <td>1</td>\n",
       "      <td>1</td>\n",
       "      <td>468b8bc626c75979fd1494ea6dc7b9ec</td>\n",
       "      <td>2017-03-12 20:39:28</td>\n",
       "    </tr>\n",
       "    <tr>\n",
       "      <th>27</th>\n",
       "      <td>00ee914cf7e4de6e8aa1c37c8dfc828b</td>\n",
       "      <td>2017-03-12</td>\n",
       "      <td>1304</td>\n",
       "      <td>0</td>\n",
       "      <td>35</td>\n",
       "      <td>Drama</td>\n",
       "      <td>vod</td>\n",
       "      <td>TV Shows</td>\n",
       "      <td>1</td>\n",
       "      <td>1</td>\n",
       "      <td>1</td>\n",
       "      <td>51100546050c997732509ff30a357234</td>\n",
       "      <td>2017-03-12 21:44:00</td>\n",
       "    </tr>\n",
       "    <tr>\n",
       "      <th>28</th>\n",
       "      <td>00ee914cf7e4de6e8aa1c37c8dfc828b</td>\n",
       "      <td>2017-03-13</td>\n",
       "      <td>297</td>\n",
       "      <td>56</td>\n",
       "      <td>35</td>\n",
       "      <td>Drama</td>\n",
       "      <td>vod</td>\n",
       "      <td>TV Shows</td>\n",
       "      <td>1</td>\n",
       "      <td>1</td>\n",
       "      <td>1</td>\n",
       "      <td>eebb1b58a697af10fd7281cea52faef3</td>\n",
       "      <td>2017-03-13 04:57:56</td>\n",
       "    </tr>\n",
       "    <tr>\n",
       "      <th>29</th>\n",
       "      <td>00ee914cf7e4de6e8aa1c37c8dfc828b</td>\n",
       "      <td>2017-03-13</td>\n",
       "      <td>1231</td>\n",
       "      <td>16</td>\n",
       "      <td>35</td>\n",
       "      <td>Drama</td>\n",
       "      <td>vod</td>\n",
       "      <td>TV Shows</td>\n",
       "      <td>1</td>\n",
       "      <td>1</td>\n",
       "      <td>1</td>\n",
       "      <td>c5427a34f938ff9e5e456dfc656b21d2</td>\n",
       "      <td>2017-03-13 20:31:16</td>\n",
       "    </tr>\n",
       "    <tr>\n",
       "      <th>...</th>\n",
       "      <td>...</td>\n",
       "      <td>...</td>\n",
       "      <td>...</td>\n",
       "      <td>...</td>\n",
       "      <td>...</td>\n",
       "      <td>...</td>\n",
       "      <td>...</td>\n",
       "      <td>...</td>\n",
       "      <td>...</td>\n",
       "      <td>...</td>\n",
       "      <td>...</td>\n",
       "      <td>...</td>\n",
       "      <td>...</td>\n",
       "    </tr>\n",
       "    <tr>\n",
       "      <th>14547</th>\n",
       "      <td>f88e62a761630ed86eecc79ed608a677</td>\n",
       "      <td>2017-04-28</td>\n",
       "      <td>1174</td>\n",
       "      <td>24</td>\n",
       "      <td>160</td>\n",
       "      <td>Drama</td>\n",
       "      <td>vod</td>\n",
       "      <td>TV Shows</td>\n",
       "      <td>40</td>\n",
       "      <td>1</td>\n",
       "      <td>1</td>\n",
       "      <td>87a2074b91f1131d5e9e0f8dd642e51d</td>\n",
       "      <td>2017-04-28 19:34:24</td>\n",
       "    </tr>\n",
       "    <tr>\n",
       "      <th>14548</th>\n",
       "      <td>f88e62a761630ed86eecc79ed608a677</td>\n",
       "      <td>2017-04-28</td>\n",
       "      <td>1179</td>\n",
       "      <td>12</td>\n",
       "      <td>160</td>\n",
       "      <td>Drama</td>\n",
       "      <td>vod</td>\n",
       "      <td>TV Shows</td>\n",
       "      <td>40</td>\n",
       "      <td>1</td>\n",
       "      <td>1</td>\n",
       "      <td>cace321124650f8dee39bca3febcc9de</td>\n",
       "      <td>2017-04-28 19:39:12</td>\n",
       "    </tr>\n",
       "    <tr>\n",
       "      <th>14549</th>\n",
       "      <td>f88e62a761630ed86eecc79ed608a677</td>\n",
       "      <td>2017-04-29</td>\n",
       "      <td>498</td>\n",
       "      <td>36</td>\n",
       "      <td>160</td>\n",
       "      <td>Romance</td>\n",
       "      <td>vod</td>\n",
       "      <td>TV Shows</td>\n",
       "      <td>40</td>\n",
       "      <td>1</td>\n",
       "      <td>1</td>\n",
       "      <td>75a246a6da56e1ec1d4c62ad23f0d4e1</td>\n",
       "      <td>2017-04-29 08:18:36</td>\n",
       "    </tr>\n",
       "    <tr>\n",
       "      <th>14550</th>\n",
       "      <td>f88e62a761630ed86eecc79ed608a677</td>\n",
       "      <td>2017-04-29</td>\n",
       "      <td>1072</td>\n",
       "      <td>24</td>\n",
       "      <td>160</td>\n",
       "      <td>Romance</td>\n",
       "      <td>vod</td>\n",
       "      <td>TV Shows</td>\n",
       "      <td>40</td>\n",
       "      <td>1</td>\n",
       "      <td>1</td>\n",
       "      <td>b66f549dd61764ed181e6a553eda4064</td>\n",
       "      <td>2017-04-29 17:52:24</td>\n",
       "    </tr>\n",
       "    <tr>\n",
       "      <th>14551</th>\n",
       "      <td>f88e62a761630ed86eecc79ed608a677</td>\n",
       "      <td>2017-04-29</td>\n",
       "      <td>1389</td>\n",
       "      <td>52</td>\n",
       "      <td>160</td>\n",
       "      <td>Anime</td>\n",
       "      <td>vod</td>\n",
       "      <td>TV Shows</td>\n",
       "      <td>40</td>\n",
       "      <td>1</td>\n",
       "      <td>1</td>\n",
       "      <td>77f4ace092e83eb9a7583f40a91d0e11</td>\n",
       "      <td>2017-04-29 23:09:52</td>\n",
       "    </tr>\n",
       "    <tr>\n",
       "      <th>14552</th>\n",
       "      <td>f88e62a761630ed86eecc79ed608a677</td>\n",
       "      <td>2017-04-29</td>\n",
       "      <td>1390</td>\n",
       "      <td>16</td>\n",
       "      <td>160</td>\n",
       "      <td>Anime</td>\n",
       "      <td>vod</td>\n",
       "      <td>TV Shows</td>\n",
       "      <td>40</td>\n",
       "      <td>1</td>\n",
       "      <td>1</td>\n",
       "      <td>b312c5ff1b66b08a1d5c8e0d072ac371</td>\n",
       "      <td>2017-04-29 23:10:16</td>\n",
       "    </tr>\n",
       "    <tr>\n",
       "      <th>14553</th>\n",
       "      <td>f88e62a761630ed86eecc79ed608a677</td>\n",
       "      <td>2017-04-29</td>\n",
       "      <td>1391</td>\n",
       "      <td>8</td>\n",
       "      <td>160</td>\n",
       "      <td>Romance</td>\n",
       "      <td>vod</td>\n",
       "      <td>TV Shows</td>\n",
       "      <td>40</td>\n",
       "      <td>1</td>\n",
       "      <td>1</td>\n",
       "      <td>7f13f0c2be83865337ed554d4c98f4c6</td>\n",
       "      <td>2017-04-29 23:11:08</td>\n",
       "    </tr>\n",
       "    <tr>\n",
       "      <th>14554</th>\n",
       "      <td>f88e62a761630ed86eecc79ed608a677</td>\n",
       "      <td>2017-04-30</td>\n",
       "      <td>20</td>\n",
       "      <td>16</td>\n",
       "      <td>160</td>\n",
       "      <td>Romance</td>\n",
       "      <td>vod</td>\n",
       "      <td>TV Shows</td>\n",
       "      <td>40</td>\n",
       "      <td>1</td>\n",
       "      <td>1</td>\n",
       "      <td>78f8f0ea9c3425f2be5e80bf7ebc0fdb</td>\n",
       "      <td>2017-04-30 00:20:16</td>\n",
       "    </tr>\n",
       "    <tr>\n",
       "      <th>14555</th>\n",
       "      <td>f88e62a761630ed86eecc79ed608a677</td>\n",
       "      <td>2017-04-30</td>\n",
       "      <td>527</td>\n",
       "      <td>16</td>\n",
       "      <td>160</td>\n",
       "      <td>Romance</td>\n",
       "      <td>vod</td>\n",
       "      <td>TV Shows</td>\n",
       "      <td>40</td>\n",
       "      <td>1</td>\n",
       "      <td>1</td>\n",
       "      <td>170bbc1547066b3d82b36c8e9d9e546d</td>\n",
       "      <td>2017-04-30 08:47:16</td>\n",
       "    </tr>\n",
       "    <tr>\n",
       "      <th>14556</th>\n",
       "      <td>f88e62a761630ed86eecc79ed608a677</td>\n",
       "      <td>2017-04-30</td>\n",
       "      <td>530</td>\n",
       "      <td>4</td>\n",
       "      <td>160</td>\n",
       "      <td>Variety</td>\n",
       "      <td>vod</td>\n",
       "      <td>TV Shows</td>\n",
       "      <td>40</td>\n",
       "      <td>1</td>\n",
       "      <td>1</td>\n",
       "      <td>6a9cd41b35ad9e3c4cf28a179c6637af</td>\n",
       "      <td>2017-04-30 08:50:04</td>\n",
       "    </tr>\n",
       "    <tr>\n",
       "      <th>14557</th>\n",
       "      <td>f88e62a761630ed86eecc79ed608a677</td>\n",
       "      <td>2017-04-30</td>\n",
       "      <td>795</td>\n",
       "      <td>44</td>\n",
       "      <td>160</td>\n",
       "      <td>Anime</td>\n",
       "      <td>vod</td>\n",
       "      <td>TV Shows</td>\n",
       "      <td>40</td>\n",
       "      <td>1</td>\n",
       "      <td>1</td>\n",
       "      <td>21526ec273ad7b6d230822f32d685fd1</td>\n",
       "      <td>2017-04-30 13:15:44</td>\n",
       "    </tr>\n",
       "    <tr>\n",
       "      <th>14558</th>\n",
       "      <td>f88e62a761630ed86eecc79ed608a677</td>\n",
       "      <td>2017-04-30</td>\n",
       "      <td>821</td>\n",
       "      <td>56</td>\n",
       "      <td>160</td>\n",
       "      <td>Anime</td>\n",
       "      <td>vod</td>\n",
       "      <td>TV Shows</td>\n",
       "      <td>40</td>\n",
       "      <td>1</td>\n",
       "      <td>1</td>\n",
       "      <td>21526ec273ad7b6d230822f32d685fd1</td>\n",
       "      <td>2017-04-30 13:41:56</td>\n",
       "    </tr>\n",
       "    <tr>\n",
       "      <th>14559</th>\n",
       "      <td>f88e62a761630ed86eecc79ed608a677</td>\n",
       "      <td>2017-04-30</td>\n",
       "      <td>1178</td>\n",
       "      <td>56</td>\n",
       "      <td>160</td>\n",
       "      <td>Anime</td>\n",
       "      <td>vod</td>\n",
       "      <td>TV Shows</td>\n",
       "      <td>40</td>\n",
       "      <td>1</td>\n",
       "      <td>1</td>\n",
       "      <td>0e6a4786651898d5ed3a45c2d3abe87c</td>\n",
       "      <td>2017-04-30 19:38:56</td>\n",
       "    </tr>\n",
       "    <tr>\n",
       "      <th>14560</th>\n",
       "      <td>f88e62a761630ed86eecc79ed608a677</td>\n",
       "      <td>2017-05-01</td>\n",
       "      <td>662</td>\n",
       "      <td>28</td>\n",
       "      <td>160</td>\n",
       "      <td>Romance</td>\n",
       "      <td>vod</td>\n",
       "      <td>TV Shows</td>\n",
       "      <td>40</td>\n",
       "      <td>1</td>\n",
       "      <td>1</td>\n",
       "      <td>7a5073634d5fe110139e6ebb4a19b2d8</td>\n",
       "      <td>2017-05-01 11:02:28</td>\n",
       "    </tr>\n",
       "    <tr>\n",
       "      <th>14561</th>\n",
       "      <td>f88e62a761630ed86eecc79ed608a677</td>\n",
       "      <td>2017-05-01</td>\n",
       "      <td>1067</td>\n",
       "      <td>32</td>\n",
       "      <td>160</td>\n",
       "      <td>Drama</td>\n",
       "      <td>vod</td>\n",
       "      <td>TV Shows</td>\n",
       "      <td>40</td>\n",
       "      <td>1</td>\n",
       "      <td>1</td>\n",
       "      <td>cace321124650f8dee39bca3febcc9de</td>\n",
       "      <td>2017-05-01 17:47:32</td>\n",
       "    </tr>\n",
       "    <tr>\n",
       "      <th>14562</th>\n",
       "      <td>f88e62a761630ed86eecc79ed608a677</td>\n",
       "      <td>2017-05-01</td>\n",
       "      <td>1071</td>\n",
       "      <td>24</td>\n",
       "      <td>160</td>\n",
       "      <td>Drama</td>\n",
       "      <td>vod</td>\n",
       "      <td>TV Shows</td>\n",
       "      <td>40</td>\n",
       "      <td>1</td>\n",
       "      <td>1</td>\n",
       "      <td>744f6b8bc6365577c0a2d6c4348e3695</td>\n",
       "      <td>2017-05-01 17:51:24</td>\n",
       "    </tr>\n",
       "    <tr>\n",
       "      <th>14563</th>\n",
       "      <td>f88e62a761630ed86eecc79ed608a677</td>\n",
       "      <td>2017-05-02</td>\n",
       "      <td>103</td>\n",
       "      <td>0</td>\n",
       "      <td>160</td>\n",
       "      <td>Drama</td>\n",
       "      <td>vod</td>\n",
       "      <td>TV Shows</td>\n",
       "      <td>40</td>\n",
       "      <td>1</td>\n",
       "      <td>1</td>\n",
       "      <td>acc1f3d82aa40f5966bb058045575461</td>\n",
       "      <td>2017-05-02 01:43:00</td>\n",
       "    </tr>\n",
       "    <tr>\n",
       "      <th>14564</th>\n",
       "      <td>f88e62a761630ed86eecc79ed608a677</td>\n",
       "      <td>2017-05-02</td>\n",
       "      <td>171</td>\n",
       "      <td>40</td>\n",
       "      <td>160</td>\n",
       "      <td>Drama</td>\n",
       "      <td>vod</td>\n",
       "      <td>TV Shows</td>\n",
       "      <td>40</td>\n",
       "      <td>1</td>\n",
       "      <td>1</td>\n",
       "      <td>c0702c49955f00b1f80f17f1e730772e</td>\n",
       "      <td>2017-05-02 02:51:40</td>\n",
       "    </tr>\n",
       "    <tr>\n",
       "      <th>14565</th>\n",
       "      <td>f88e62a761630ed86eecc79ed608a677</td>\n",
       "      <td>2017-05-02</td>\n",
       "      <td>241</td>\n",
       "      <td>8</td>\n",
       "      <td>160</td>\n",
       "      <td>Drama</td>\n",
       "      <td>vod</td>\n",
       "      <td>TV Shows</td>\n",
       "      <td>40</td>\n",
       "      <td>1</td>\n",
       "      <td>1</td>\n",
       "      <td>e4d567679ed18886819906acfe3d8fcd</td>\n",
       "      <td>2017-05-02 04:01:08</td>\n",
       "    </tr>\n",
       "    <tr>\n",
       "      <th>14566</th>\n",
       "      <td>f88e62a761630ed86eecc79ed608a677</td>\n",
       "      <td>2017-05-02</td>\n",
       "      <td>1037</td>\n",
       "      <td>0</td>\n",
       "      <td>160</td>\n",
       "      <td>Drama</td>\n",
       "      <td>vod</td>\n",
       "      <td>TV Shows</td>\n",
       "      <td>40</td>\n",
       "      <td>1</td>\n",
       "      <td>1</td>\n",
       "      <td>4ad71a25241dd615506fe64ad7c2f726</td>\n",
       "      <td>2017-05-02 17:17:00</td>\n",
       "    </tr>\n",
       "    <tr>\n",
       "      <th>14567</th>\n",
       "      <td>f88e62a761630ed86eecc79ed608a677</td>\n",
       "      <td>2017-05-04</td>\n",
       "      <td>762</td>\n",
       "      <td>44</td>\n",
       "      <td>160</td>\n",
       "      <td>Drama</td>\n",
       "      <td>vod</td>\n",
       "      <td>TV Shows</td>\n",
       "      <td>40</td>\n",
       "      <td>1</td>\n",
       "      <td>1</td>\n",
       "      <td>dbbc68e8507268a92b4545da129c2120</td>\n",
       "      <td>2017-05-04 12:42:44</td>\n",
       "    </tr>\n",
       "    <tr>\n",
       "      <th>14568</th>\n",
       "      <td>f88e62a761630ed86eecc79ed608a677</td>\n",
       "      <td>2017-05-04</td>\n",
       "      <td>1044</td>\n",
       "      <td>16</td>\n",
       "      <td>160</td>\n",
       "      <td>Anime</td>\n",
       "      <td>vod</td>\n",
       "      <td>TV Shows</td>\n",
       "      <td>40</td>\n",
       "      <td>1</td>\n",
       "      <td>1</td>\n",
       "      <td>dafc41c9d3e89b2ff14e2d0fbf2acabb</td>\n",
       "      <td>2017-05-04 17:24:16</td>\n",
       "    </tr>\n",
       "    <tr>\n",
       "      <th>14569</th>\n",
       "      <td>f88e62a761630ed86eecc79ed608a677</td>\n",
       "      <td>2017-05-04</td>\n",
       "      <td>1389</td>\n",
       "      <td>8</td>\n",
       "      <td>160</td>\n",
       "      <td>Anime</td>\n",
       "      <td>vod</td>\n",
       "      <td>TV Shows</td>\n",
       "      <td>40</td>\n",
       "      <td>1</td>\n",
       "      <td>1</td>\n",
       "      <td>8bf295a1829d40211465a2090415d218</td>\n",
       "      <td>2017-05-04 23:09:08</td>\n",
       "    </tr>\n",
       "    <tr>\n",
       "      <th>14570</th>\n",
       "      <td>f88e62a761630ed86eecc79ed608a677</td>\n",
       "      <td>2017-05-04</td>\n",
       "      <td>1416</td>\n",
       "      <td>0</td>\n",
       "      <td>160</td>\n",
       "      <td>Anime</td>\n",
       "      <td>vod</td>\n",
       "      <td>TV Shows</td>\n",
       "      <td>40</td>\n",
       "      <td>1</td>\n",
       "      <td>1</td>\n",
       "      <td>aeb35f1ef1a9981f69ddfab5444e9f2f</td>\n",
       "      <td>2017-05-04 23:36:00</td>\n",
       "    </tr>\n",
       "    <tr>\n",
       "      <th>14571</th>\n",
       "      <td>f88e62a761630ed86eecc79ed608a677</td>\n",
       "      <td>2017-05-08</td>\n",
       "      <td>43</td>\n",
       "      <td>24</td>\n",
       "      <td>160</td>\n",
       "      <td>Romance</td>\n",
       "      <td>vod</td>\n",
       "      <td>TV Shows</td>\n",
       "      <td>40</td>\n",
       "      <td>1</td>\n",
       "      <td>1</td>\n",
       "      <td>20eb5a7325e907fff6b51316b9f39f69</td>\n",
       "      <td>2017-05-08 00:43:24</td>\n",
       "    </tr>\n",
       "    <tr>\n",
       "      <th>14572</th>\n",
       "      <td>f88e62a761630ed86eecc79ed608a677</td>\n",
       "      <td>2017-05-09</td>\n",
       "      <td>1116</td>\n",
       "      <td>44</td>\n",
       "      <td>160</td>\n",
       "      <td>Drama</td>\n",
       "      <td>linear</td>\n",
       "      <td>Channels</td>\n",
       "      <td>40</td>\n",
       "      <td>1</td>\n",
       "      <td>1</td>\n",
       "      <td>3be9d3729cf2391d5feecdea0f2c4c66</td>\n",
       "      <td>2017-05-09 18:36:44</td>\n",
       "    </tr>\n",
       "    <tr>\n",
       "      <th>14573</th>\n",
       "      <td>f88e62a761630ed86eecc79ed608a677</td>\n",
       "      <td>2017-05-09</td>\n",
       "      <td>1116</td>\n",
       "      <td>44</td>\n",
       "      <td>160</td>\n",
       "      <td>Drama</td>\n",
       "      <td>linear</td>\n",
       "      <td>Channels</td>\n",
       "      <td>40</td>\n",
       "      <td>1</td>\n",
       "      <td>1</td>\n",
       "      <td>3be9d3729cf2391d5feecdea0f2c4c66</td>\n",
       "      <td>2017-05-09 18:36:44</td>\n",
       "    </tr>\n",
       "    <tr>\n",
       "      <th>14574</th>\n",
       "      <td>f88e62a761630ed86eecc79ed608a677</td>\n",
       "      <td>2017-05-09</td>\n",
       "      <td>1117</td>\n",
       "      <td>32</td>\n",
       "      <td>160</td>\n",
       "      <td>Drama</td>\n",
       "      <td>vod</td>\n",
       "      <td>TV Shows</td>\n",
       "      <td>40</td>\n",
       "      <td>1</td>\n",
       "      <td>1</td>\n",
       "      <td>34c6ea89ebb5e6d01cfd5e830745a87d</td>\n",
       "      <td>2017-05-09 18:37:32</td>\n",
       "    </tr>\n",
       "    <tr>\n",
       "      <th>14575</th>\n",
       "      <td>f88e62a761630ed86eecc79ed608a677</td>\n",
       "      <td>2017-05-16</td>\n",
       "      <td>647</td>\n",
       "      <td>44</td>\n",
       "      <td>160</td>\n",
       "      <td>Romance</td>\n",
       "      <td>vod</td>\n",
       "      <td>TV Shows</td>\n",
       "      <td>40</td>\n",
       "      <td>1</td>\n",
       "      <td>1</td>\n",
       "      <td>7a0f73742d8e4b90b091fbf8e5c2c0ea</td>\n",
       "      <td>2017-05-16 10:47:44</td>\n",
       "    </tr>\n",
       "    <tr>\n",
       "      <th>14576</th>\n",
       "      <td>f88e62a761630ed86eecc79ed608a677</td>\n",
       "      <td>2017-05-17</td>\n",
       "      <td>153</td>\n",
       "      <td>12</td>\n",
       "      <td>160</td>\n",
       "      <td>Romance</td>\n",
       "      <td>vod</td>\n",
       "      <td>TV Shows</td>\n",
       "      <td>40</td>\n",
       "      <td>1</td>\n",
       "      <td>1</td>\n",
       "      <td>7a0f73742d8e4b90b091fbf8e5c2c0ea</td>\n",
       "      <td>2017-05-17 02:33:12</td>\n",
       "    </tr>\n",
       "  </tbody>\n",
       "</table>\n",
       "<p>14577 rows × 13 columns</p>\n",
       "</div>"
      ],
      "text/plain": [
       "                                 UserId       Date  Minute_Of_Day  Second  \\\n",
       "0      00ee914cf7e4de6e8aa1c37c8dfc828b 2017-03-06           1253      36   \n",
       "1      00ee914cf7e4de6e8aa1c37c8dfc828b 2017-03-09           1185      52   \n",
       "2      00ee914cf7e4de6e8aa1c37c8dfc828b 2017-03-09           1186       0   \n",
       "3      00ee914cf7e4de6e8aa1c37c8dfc828b 2017-03-10            250      40   \n",
       "4      00ee914cf7e4de6e8aa1c37c8dfc828b 2017-03-10            250      52   \n",
       "5      00ee914cf7e4de6e8aa1c37c8dfc828b 2017-03-10            679      20   \n",
       "6      00ee914cf7e4de6e8aa1c37c8dfc828b 2017-03-10            708      32   \n",
       "7      00ee914cf7e4de6e8aa1c37c8dfc828b 2017-03-10            708      36   \n",
       "8      00ee914cf7e4de6e8aa1c37c8dfc828b 2017-03-10           1325      16   \n",
       "9      00ee914cf7e4de6e8aa1c37c8dfc828b 2017-03-10           1326      52   \n",
       "10     00ee914cf7e4de6e8aa1c37c8dfc828b 2017-03-11            427      48   \n",
       "11     00ee914cf7e4de6e8aa1c37c8dfc828b 2017-03-11            591      52   \n",
       "12     00ee914cf7e4de6e8aa1c37c8dfc828b 2017-03-11            785      48   \n",
       "13     00ee914cf7e4de6e8aa1c37c8dfc828b 2017-03-11            792      52   \n",
       "14     00ee914cf7e4de6e8aa1c37c8dfc828b 2017-03-11            844      32   \n",
       "15     00ee914cf7e4de6e8aa1c37c8dfc828b 2017-03-11            911      24   \n",
       "16     00ee914cf7e4de6e8aa1c37c8dfc828b 2017-03-11            927      32   \n",
       "17     00ee914cf7e4de6e8aa1c37c8dfc828b 2017-03-11           1082      36   \n",
       "18     00ee914cf7e4de6e8aa1c37c8dfc828b 2017-03-12            294      20   \n",
       "19     00ee914cf7e4de6e8aa1c37c8dfc828b 2017-03-12            574      48   \n",
       "20     00ee914cf7e4de6e8aa1c37c8dfc828b 2017-03-12            592       0   \n",
       "21     00ee914cf7e4de6e8aa1c37c8dfc828b 2017-03-12            777       0   \n",
       "22     00ee914cf7e4de6e8aa1c37c8dfc828b 2017-03-12            779      56   \n",
       "23     00ee914cf7e4de6e8aa1c37c8dfc828b 2017-03-12            779      56   \n",
       "24     00ee914cf7e4de6e8aa1c37c8dfc828b 2017-03-12            901      16   \n",
       "25     00ee914cf7e4de6e8aa1c37c8dfc828b 2017-03-12           1100      40   \n",
       "26     00ee914cf7e4de6e8aa1c37c8dfc828b 2017-03-12           1239      28   \n",
       "27     00ee914cf7e4de6e8aa1c37c8dfc828b 2017-03-12           1304       0   \n",
       "28     00ee914cf7e4de6e8aa1c37c8dfc828b 2017-03-13            297      56   \n",
       "29     00ee914cf7e4de6e8aa1c37c8dfc828b 2017-03-13           1231      16   \n",
       "...                                 ...        ...            ...     ...   \n",
       "14547  f88e62a761630ed86eecc79ed608a677 2017-04-28           1174      24   \n",
       "14548  f88e62a761630ed86eecc79ed608a677 2017-04-28           1179      12   \n",
       "14549  f88e62a761630ed86eecc79ed608a677 2017-04-29            498      36   \n",
       "14550  f88e62a761630ed86eecc79ed608a677 2017-04-29           1072      24   \n",
       "14551  f88e62a761630ed86eecc79ed608a677 2017-04-29           1389      52   \n",
       "14552  f88e62a761630ed86eecc79ed608a677 2017-04-29           1390      16   \n",
       "14553  f88e62a761630ed86eecc79ed608a677 2017-04-29           1391       8   \n",
       "14554  f88e62a761630ed86eecc79ed608a677 2017-04-30             20      16   \n",
       "14555  f88e62a761630ed86eecc79ed608a677 2017-04-30            527      16   \n",
       "14556  f88e62a761630ed86eecc79ed608a677 2017-04-30            530       4   \n",
       "14557  f88e62a761630ed86eecc79ed608a677 2017-04-30            795      44   \n",
       "14558  f88e62a761630ed86eecc79ed608a677 2017-04-30            821      56   \n",
       "14559  f88e62a761630ed86eecc79ed608a677 2017-04-30           1178      56   \n",
       "14560  f88e62a761630ed86eecc79ed608a677 2017-05-01            662      28   \n",
       "14561  f88e62a761630ed86eecc79ed608a677 2017-05-01           1067      32   \n",
       "14562  f88e62a761630ed86eecc79ed608a677 2017-05-01           1071      24   \n",
       "14563  f88e62a761630ed86eecc79ed608a677 2017-05-02            103       0   \n",
       "14564  f88e62a761630ed86eecc79ed608a677 2017-05-02            171      40   \n",
       "14565  f88e62a761630ed86eecc79ed608a677 2017-05-02            241       8   \n",
       "14566  f88e62a761630ed86eecc79ed608a677 2017-05-02           1037       0   \n",
       "14567  f88e62a761630ed86eecc79ed608a677 2017-05-04            762      44   \n",
       "14568  f88e62a761630ed86eecc79ed608a677 2017-05-04           1044      16   \n",
       "14569  f88e62a761630ed86eecc79ed608a677 2017-05-04           1389       8   \n",
       "14570  f88e62a761630ed86eecc79ed608a677 2017-05-04           1416       0   \n",
       "14571  f88e62a761630ed86eecc79ed608a677 2017-05-08             43      24   \n",
       "14572  f88e62a761630ed86eecc79ed608a677 2017-05-09           1116      44   \n",
       "14573  f88e62a761630ed86eecc79ed608a677 2017-05-09           1116      44   \n",
       "14574  f88e62a761630ed86eecc79ed608a677 2017-05-09           1117      32   \n",
       "14575  f88e62a761630ed86eecc79ed608a677 2017-05-16            647      44   \n",
       "14576  f88e62a761630ed86eecc79ed608a677 2017-05-17            153      12   \n",
       "\n",
       "       State      Genre  Category ProgramType  Country  Device  OS  \\\n",
       "0         35     Drama       vod     TV Shows        1       1   1   \n",
       "1         35     Drama       vod     TV Shows        1       1   1   \n",
       "2         35     Drama       vod     TV Shows        1       1   1   \n",
       "3         35     Drama       vod     TV Shows        1       1   1   \n",
       "4         35     Drama       vod     TV Shows        1       1   1   \n",
       "5         35     Drama       vod     TV Shows        1       1   1   \n",
       "6         35     Drama       vod     TV Shows        1       1   1   \n",
       "7         35     Drama       vod     TV Shows        1       1   1   \n",
       "8         35     Drama       vod     TV Shows        1       1   1   \n",
       "9         35     Drama       vod     TV Shows        1       1   1   \n",
       "10        35     Drama       vod     TV Shows        1       1   1   \n",
       "11        35     Drama       vod     TV Shows        1       1   1   \n",
       "12        35     Drama       vod     TV Shows        1       1   1   \n",
       "13        35     Drama       vod     TV Shows        1       1   1   \n",
       "14        35     Drama       vod     TV Shows        1       1   1   \n",
       "15        35     Drama       vod     TV Shows        1       1   1   \n",
       "16        35     Drama       vod     TV Shows        1       1   1   \n",
       "17        35     Drama       vod     TV Shows        1       1   1   \n",
       "18        35     Drama       vod     TV Shows        1       1   1   \n",
       "19        35     Drama       vod     TV Shows        1       1   1   \n",
       "20        35     Drama       vod     TV Shows        1       1   1   \n",
       "21        35     Drama       vod     TV Shows        1       1   1   \n",
       "22        35     Drama       vod     TV Shows        1       1   1   \n",
       "23        35     Drama       vod     TV Shows        1       1   1   \n",
       "24        35     Drama       vod     TV Shows        1       1   1   \n",
       "25        35     Drama       vod     TV Shows        1       1   1   \n",
       "26        35     Drama       vod     TV Shows        1       1   1   \n",
       "27        35     Drama       vod     TV Shows        1       1   1   \n",
       "28        35     Drama       vod     TV Shows        1       1   1   \n",
       "29        35     Drama       vod     TV Shows        1       1   1   \n",
       "...      ...        ...       ...         ...      ...     ...  ..   \n",
       "14547    160     Drama       vod     TV Shows       40       1   1   \n",
       "14548    160     Drama       vod     TV Shows       40       1   1   \n",
       "14549    160   Romance       vod     TV Shows       40       1   1   \n",
       "14550    160   Romance       vod     TV Shows       40       1   1   \n",
       "14551    160     Anime       vod     TV Shows       40       1   1   \n",
       "14552    160     Anime       vod     TV Shows       40       1   1   \n",
       "14553    160   Romance       vod     TV Shows       40       1   1   \n",
       "14554    160   Romance       vod     TV Shows       40       1   1   \n",
       "14555    160   Romance       vod     TV Shows       40       1   1   \n",
       "14556    160   Variety       vod     TV Shows       40       1   1   \n",
       "14557    160     Anime       vod     TV Shows       40       1   1   \n",
       "14558    160     Anime       vod     TV Shows       40       1   1   \n",
       "14559    160     Anime       vod     TV Shows       40       1   1   \n",
       "14560    160   Romance       vod     TV Shows       40       1   1   \n",
       "14561    160     Drama       vod     TV Shows       40       1   1   \n",
       "14562    160     Drama       vod     TV Shows       40       1   1   \n",
       "14563    160     Drama       vod     TV Shows       40       1   1   \n",
       "14564    160     Drama       vod     TV Shows       40       1   1   \n",
       "14565    160     Drama       vod     TV Shows       40       1   1   \n",
       "14566    160     Drama       vod     TV Shows       40       1   1   \n",
       "14567    160     Drama       vod     TV Shows       40       1   1   \n",
       "14568    160     Anime       vod     TV Shows       40       1   1   \n",
       "14569    160     Anime       vod     TV Shows       40       1   1   \n",
       "14570    160     Anime       vod     TV Shows       40       1   1   \n",
       "14571    160   Romance       vod     TV Shows       40       1   1   \n",
       "14572    160     Drama    linear     Channels       40       1   1   \n",
       "14573    160     Drama    linear     Channels       40       1   1   \n",
       "14574    160     Drama       vod     TV Shows       40       1   1   \n",
       "14575    160   Romance       vod     TV Shows       40       1   1   \n",
       "14576    160   Romance       vod     TV Shows       40       1   1   \n",
       "\n",
       "                                VideoId           Timestamp  \n",
       "0      a7a2897105f3dc7b207d016ebc1085da 2017-03-06 20:53:36  \n",
       "1      66acb1c6dfce53ba24a5662e5d9c1253 2017-03-09 19:45:52  \n",
       "2      66acb1c6dfce53ba24a5662e5d9c1253 2017-03-09 19:46:00  \n",
       "3      66acb1c6dfce53ba24a5662e5d9c1253 2017-03-10 04:10:40  \n",
       "4      66acb1c6dfce53ba24a5662e5d9c1253 2017-03-10 04:10:52  \n",
       "5      b92cb0381d7be6d452b3e8168c5d9f41 2017-03-10 11:19:20  \n",
       "6      b92cb0381d7be6d452b3e8168c5d9f41 2017-03-10 11:48:32  \n",
       "7      b92cb0381d7be6d452b3e8168c5d9f41 2017-03-10 11:48:36  \n",
       "8      3123a0e697627e4943498ee901e0aba4 2017-03-10 22:05:16  \n",
       "9      5677549014e0f24dc5bd15696be74c25 2017-03-10 22:06:52  \n",
       "10     20e4787e72962583f71e3d7c9d46a481 2017-03-11 07:07:48  \n",
       "11     48541c8371781f489d6bbc902b58fc87 2017-03-11 09:51:52  \n",
       "12     cd4d67d6950dde9c8c4a7c384f1bdd8d 2017-03-11 13:05:48  \n",
       "13     cd4d67d6950dde9c8c4a7c384f1bdd8d 2017-03-11 13:12:52  \n",
       "14     45767e1b0425420441e358ca49c614d9 2017-03-11 14:04:32  \n",
       "15     10d43f92d0b839bf078e9ececfcee4ce 2017-03-11 15:11:24  \n",
       "16     10d43f92d0b839bf078e9ececfcee4ce 2017-03-11 15:27:32  \n",
       "17     1b6787994a6841f459f5f2e03ce9e9a4 2017-03-11 18:02:36  \n",
       "18     a2cbe05688575114e24298c280743735 2017-03-12 04:54:20  \n",
       "19     9dc89274c883a2fbda72b5d8db21193a 2017-03-12 09:34:48  \n",
       "20     3e808ec9a886535dc07264c0c692d920 2017-03-12 09:52:00  \n",
       "21     5f7f803e83af96375f50f1788d4092b4 2017-03-12 12:57:00  \n",
       "22     3e808ec9a886535dc07264c0c692d920 2017-03-12 12:59:56  \n",
       "23     3e808ec9a886535dc07264c0c692d920 2017-03-12 12:59:56  \n",
       "24     2d6cb81d6f7a34eac0608ee35a9f6a96 2017-03-12 15:01:16  \n",
       "25     eed024bc065482d3ad8a354326a195ad 2017-03-12 18:20:40  \n",
       "26     468b8bc626c75979fd1494ea6dc7b9ec 2017-03-12 20:39:28  \n",
       "27     51100546050c997732509ff30a357234 2017-03-12 21:44:00  \n",
       "28     eebb1b58a697af10fd7281cea52faef3 2017-03-13 04:57:56  \n",
       "29     c5427a34f938ff9e5e456dfc656b21d2 2017-03-13 20:31:16  \n",
       "...                                 ...                 ...  \n",
       "14547  87a2074b91f1131d5e9e0f8dd642e51d 2017-04-28 19:34:24  \n",
       "14548  cace321124650f8dee39bca3febcc9de 2017-04-28 19:39:12  \n",
       "14549  75a246a6da56e1ec1d4c62ad23f0d4e1 2017-04-29 08:18:36  \n",
       "14550  b66f549dd61764ed181e6a553eda4064 2017-04-29 17:52:24  \n",
       "14551  77f4ace092e83eb9a7583f40a91d0e11 2017-04-29 23:09:52  \n",
       "14552  b312c5ff1b66b08a1d5c8e0d072ac371 2017-04-29 23:10:16  \n",
       "14553  7f13f0c2be83865337ed554d4c98f4c6 2017-04-29 23:11:08  \n",
       "14554  78f8f0ea9c3425f2be5e80bf7ebc0fdb 2017-04-30 00:20:16  \n",
       "14555  170bbc1547066b3d82b36c8e9d9e546d 2017-04-30 08:47:16  \n",
       "14556  6a9cd41b35ad9e3c4cf28a179c6637af 2017-04-30 08:50:04  \n",
       "14557  21526ec273ad7b6d230822f32d685fd1 2017-04-30 13:15:44  \n",
       "14558  21526ec273ad7b6d230822f32d685fd1 2017-04-30 13:41:56  \n",
       "14559  0e6a4786651898d5ed3a45c2d3abe87c 2017-04-30 19:38:56  \n",
       "14560  7a5073634d5fe110139e6ebb4a19b2d8 2017-05-01 11:02:28  \n",
       "14561  cace321124650f8dee39bca3febcc9de 2017-05-01 17:47:32  \n",
       "14562  744f6b8bc6365577c0a2d6c4348e3695 2017-05-01 17:51:24  \n",
       "14563  acc1f3d82aa40f5966bb058045575461 2017-05-02 01:43:00  \n",
       "14564  c0702c49955f00b1f80f17f1e730772e 2017-05-02 02:51:40  \n",
       "14565  e4d567679ed18886819906acfe3d8fcd 2017-05-02 04:01:08  \n",
       "14566  4ad71a25241dd615506fe64ad7c2f726 2017-05-02 17:17:00  \n",
       "14567  dbbc68e8507268a92b4545da129c2120 2017-05-04 12:42:44  \n",
       "14568  dafc41c9d3e89b2ff14e2d0fbf2acabb 2017-05-04 17:24:16  \n",
       "14569  8bf295a1829d40211465a2090415d218 2017-05-04 23:09:08  \n",
       "14570  aeb35f1ef1a9981f69ddfab5444e9f2f 2017-05-04 23:36:00  \n",
       "14571  20eb5a7325e907fff6b51316b9f39f69 2017-05-08 00:43:24  \n",
       "14572  3be9d3729cf2391d5feecdea0f2c4c66 2017-05-09 18:36:44  \n",
       "14573  3be9d3729cf2391d5feecdea0f2c4c66 2017-05-09 18:36:44  \n",
       "14574  34c6ea89ebb5e6d01cfd5e830745a87d 2017-05-09 18:37:32  \n",
       "14575  7a0f73742d8e4b90b091fbf8e5c2c0ea 2017-05-16 10:47:44  \n",
       "14576  7a0f73742d8e4b90b091fbf8e5c2c0ea 2017-05-17 02:33:12  \n",
       "\n",
       "[14577 rows x 13 columns]"
      ]
     },
     "execution_count": 16,
     "metadata": {},
     "output_type": "execute_result"
    }
   ],
   "source": [
    "df_100_user = pd.merge(useridun,df_video_started,how='left',on='UserId')\n",
    "df_100_user"
   ]
  },
  {
   "cell_type": "code",
   "execution_count": 17,
   "metadata": {},
   "outputs": [],
   "source": [
    "from sklearn.preprocessing import LabelEncoder\n",
    "lablel_encoder = LabelEncoder()\n",
    "df_100_user['UserId'] = lablel_encoder.fit_transform(df_100_user['UserId'])\n",
    "df_100_user['VideoId'] = lablel_encoder.fit_transform(df_100_user['VideoId'])"
   ]
  },
  {
   "cell_type": "code",
   "execution_count": 18,
   "metadata": {},
   "outputs": [],
   "source": [
    "#df_100_user.set_index('Timestamp', inplace=True)\n",
    "mask = (df_100_user['Date'] > '2017-06-10') & (df_100_user['Date'] <= '2017-06-12')\n",
    "df_100_user_test=df_100_user.loc[mask]\n",
    "mask1 = (df_100_user['Date'] >='2017-01-06') & (df_100_user['Date'] <= '2017-05-11')\n",
    "df_100_user_train=df_100_user.loc[mask1]"
   ]
  },
  {
   "cell_type": "code",
   "execution_count": 19,
   "metadata": {},
   "outputs": [
    {
     "data": {
      "text/plain": [
       "0        5\n",
       "1        4\n",
       "2        4\n",
       "3        4\n",
       "4        3\n",
       "5        3\n",
       "6        3\n",
       "7        3\n",
       "8        3\n",
       "9        3\n",
       "10       2\n",
       "11       2\n",
       "12       2\n",
       "13       2\n",
       "14       2\n",
       "15       2\n",
       "16       2\n",
       "17       2\n",
       "18       2\n",
       "19       2\n",
       "20       1\n",
       "21       1\n",
       "22       1\n",
       "23       1\n",
       "24       1\n",
       "25       1\n",
       "26       1\n",
       "27       1\n",
       "28       1\n",
       "29       1\n",
       "        ..\n",
       "2408     1\n",
       "2409     1\n",
       "2410     1\n",
       "2411     1\n",
       "2412     1\n",
       "2413     1\n",
       "2414     1\n",
       "2415     1\n",
       "2416     1\n",
       "2417     1\n",
       "2418     1\n",
       "2419     1\n",
       "2420    25\n",
       "2421     3\n",
       "2422     2\n",
       "2423    55\n",
       "2424    50\n",
       "2425    26\n",
       "2426    11\n",
       "2427     2\n",
       "2428     1\n",
       "2429     1\n",
       "2430     1\n",
       "2431    40\n",
       "2432    14\n",
       "2433     7\n",
       "2434     2\n",
       "2435     1\n",
       "2436     1\n",
       "2437     1\n",
       "Name: Number_of_Ratings, Length: 2438, dtype: int64"
      ]
     },
     "execution_count": 19,
     "metadata": {},
     "output_type": "execute_result"
    }
   ],
   "source": [
    "rating = pd.DataFrame(df_100_user_train.groupby('UserId')['VideoId'].value_counts())\n",
    "rating.index.set_names(['UserId', 'VID'],inplace=True)    \n",
    "rating.reset_index(inplace=True)\n",
    "rating.rename(columns={'VideoId':'Number_of_Ratings'},inplace=True)\n",
    "rating['Number_of_Ratings']"
   ]
  },
  {
   "cell_type": "code",
   "execution_count": 20,
   "metadata": {},
   "outputs": [
    {
     "data": {
      "text/plain": [
       "0       6\n",
       "1       2\n",
       "2       1\n",
       "3       2\n",
       "4       4\n",
       "5       2\n",
       "6       1\n",
       "7       1\n",
       "8       1\n",
       "9       1\n",
       "10      4\n",
       "11      2\n",
       "12      2\n",
       "13      1\n",
       "14      1\n",
       "15      9\n",
       "16      3\n",
       "17      2\n",
       "18      2\n",
       "19      1\n",
       "20      1\n",
       "21      1\n",
       "22      1\n",
       "23      1\n",
       "24      1\n",
       "25      1\n",
       "26      1\n",
       "27      1\n",
       "28     13\n",
       "29      1\n",
       "       ..\n",
       "124     1\n",
       "125     1\n",
       "126     1\n",
       "127     1\n",
       "128     1\n",
       "129     1\n",
       "130     1\n",
       "131     1\n",
       "132     1\n",
       "133     1\n",
       "134     1\n",
       "135     1\n",
       "136     1\n",
       "137     1\n",
       "138     1\n",
       "139     1\n",
       "140     1\n",
       "141     1\n",
       "142     1\n",
       "143     1\n",
       "144     1\n",
       "145     3\n",
       "146     2\n",
       "147     5\n",
       "148     5\n",
       "149     4\n",
       "150     1\n",
       "151    34\n",
       "152     8\n",
       "153     2\n",
       "Name: Number_of_Ratings, Length: 154, dtype: int64"
      ]
     },
     "execution_count": 20,
     "metadata": {},
     "output_type": "execute_result"
    }
   ],
   "source": [
    "rating_test = pd.DataFrame(df_100_user_test.groupby('UserId')['VideoId'].value_counts())\n",
    "rating_test.index.set_names(['UserId', 'VID'],inplace=True)    \n",
    "rating_test.reset_index(inplace=True)\n",
    "rating_test.rename(columns={'VideoId':'Number_of_Ratings'},inplace=True)\n",
    "rating_test['Number_of_Ratings']"
   ]
  },
  {
   "cell_type": "code",
   "execution_count": 33,
   "metadata": {},
   "outputs": [],
   "source": [
    "import graphlab\n",
    "train_data = graphlab.SFrame(rating)\n",
    "test_data = graphlab.SFrame(rating_test)"
   ]
  },
  {
   "cell_type": "markdown",
   "metadata": {},
   "source": [
    "# simple popularity based recomendation system"
   ]
  },
  {
   "cell_type": "code",
   "execution_count": 34,
   "metadata": {},
   "outputs": [
    {
     "data": {
      "text/html": [
       "<pre>Recsys training: model = popularity</pre>"
      ],
      "text/plain": [
       "Recsys training: model = popularity"
      ]
     },
     "metadata": {},
     "output_type": "display_data"
    },
    {
     "data": {
      "text/html": [
       "<pre>Preparing data set.</pre>"
      ],
      "text/plain": [
       "Preparing data set."
      ]
     },
     "metadata": {},
     "output_type": "display_data"
    },
    {
     "data": {
      "text/html": [
       "<pre>    Data has 2438 observations with 79 users and 921 items.</pre>"
      ],
      "text/plain": [
       "    Data has 2438 observations with 79 users and 921 items."
      ]
     },
     "metadata": {},
     "output_type": "display_data"
    },
    {
     "data": {
      "text/html": [
       "<pre>    Data prepared in: 0.009994s</pre>"
      ],
      "text/plain": [
       "    Data prepared in: 0.009994s"
      ]
     },
     "metadata": {},
     "output_type": "display_data"
    },
    {
     "data": {
      "text/html": [
       "<pre>2438 observations to process; with 921 unique items.</pre>"
      ],
      "text/plain": [
       "2438 observations to process; with 921 unique items."
      ]
     },
     "metadata": {},
     "output_type": "display_data"
    }
   ],
   "source": [
    "popularity_model = graphlab.popularity_recommender.create(train_data, user_id='UserId', item_id='VID', target='Number_of_Ratings')"
   ]
  },
  {
   "cell_type": "code",
   "execution_count": 35,
   "metadata": {},
   "outputs": [
    {
     "name": "stdout",
     "output_type": "stream",
     "text": [
      "+--------+------+---------------+------+\n",
      "| UserId | VID  |     score     | rank |\n",
      "+--------+------+---------------+------+\n",
      "|   1    | 1074 |      55.0     |  1   |\n",
      "|   1    | 305  |      40.4     |  2   |\n",
      "|   1    | 542  |      18.0     |  3   |\n",
      "|   1    | 293  |      17.0     |  4   |\n",
      "|   1    | 831  |      14.0     |  5   |\n",
      "|   2    | 1074 |      55.0     |  1   |\n",
      "|   2    | 305  |      40.4     |  2   |\n",
      "|   2    | 229  | 29.0967741935 |  3   |\n",
      "|   2    | 542  |      18.0     |  4   |\n",
      "|   2    | 293  |      17.0     |  5   |\n",
      "|   3    | 1074 |      55.0     |  1   |\n",
      "|   3    | 305  |      40.4     |  2   |\n",
      "|   3    | 229  | 29.0967741935 |  3   |\n",
      "|   3    | 542  |      18.0     |  4   |\n",
      "|   3    | 293  |      17.0     |  5   |\n",
      "|   4    | 1074 |      55.0     |  1   |\n",
      "|   4    | 305  |      40.4     |  2   |\n",
      "|   4    | 229  | 29.0967741935 |  3   |\n",
      "|   4    | 542  |      18.0     |  4   |\n",
      "|   4    | 293  |      17.0     |  5   |\n",
      "|   5    | 1074 |      55.0     |  1   |\n",
      "|   5    | 305  |      40.4     |  2   |\n",
      "|   5    | 542  |      18.0     |  3   |\n",
      "|   5    | 293  |      17.0     |  4   |\n",
      "|   5    | 132  | 16.6666666667 |  5   |\n",
      "+--------+------+---------------+------+\n",
      "[25 rows x 4 columns]\n",
      "\n"
     ]
    }
   ],
   "source": [
    "#Get recommendations for first 5 users and print them\n",
    "#users = range(1,6) specifies user ID of first 5 users\n",
    "#k=5 specifies top 5 recommendations to be given\n",
    "popularity_recomm = popularity_model.recommend(users=range(1,6),k=5)\n",
    "popularity_recomm.print_rows(num_rows=25)"
   ]
  },
  {
   "cell_type": "code",
   "execution_count": 36,
   "metadata": {},
   "outputs": [
    {
     "data": {
      "text/plain": [
       "VID\n",
       "1074    55.000000\n",
       "305     40.400000\n",
       "229     29.096774\n",
       "542     18.000000\n",
       "293     17.000000\n",
       "132     16.666667\n",
       "831     14.000000\n",
       "1063    12.000000\n",
       "456     12.000000\n",
       "1062    10.869565\n",
       "1086    10.000000\n",
       "266     10.000000\n",
       "1093     9.636364\n",
       "623      9.363636\n",
       "696      8.500000\n",
       "564      8.000000\n",
       "325      8.000000\n",
       "465      8.000000\n",
       "359      8.000000\n",
       "883      8.000000\n",
       "Name: Number_of_Ratings, dtype: float64"
      ]
     },
     "execution_count": 36,
     "metadata": {},
     "output_type": "execute_result"
    }
   ],
   "source": [
    "rating.groupby(by='VID')['Number_of_Ratings'].mean().sort_values(ascending=False).head(20)"
   ]
  },
  {
   "cell_type": "code",
   "execution_count": 39,
   "metadata": {},
   "outputs": [
    {
     "data": {
      "text/html": [
       "<pre>Recsys training: model = item_similarity</pre>"
      ],
      "text/plain": [
       "Recsys training: model = item_similarity"
      ]
     },
     "metadata": {},
     "output_type": "display_data"
    },
    {
     "data": {
      "text/html": [
       "<pre>Preparing data set.</pre>"
      ],
      "text/plain": [
       "Preparing data set."
      ]
     },
     "metadata": {},
     "output_type": "display_data"
    },
    {
     "data": {
      "text/html": [
       "<pre>    Data has 2438 observations with 79 users and 921 items.</pre>"
      ],
      "text/plain": [
       "    Data has 2438 observations with 79 users and 921 items."
      ]
     },
     "metadata": {},
     "output_type": "display_data"
    },
    {
     "data": {
      "text/html": [
       "<pre>    Data prepared in: 0.010993s</pre>"
      ],
      "text/plain": [
       "    Data prepared in: 0.010993s"
      ]
     },
     "metadata": {},
     "output_type": "display_data"
    },
    {
     "data": {
      "text/html": [
       "<pre>Training model from provided data.</pre>"
      ],
      "text/plain": [
       "Training model from provided data."
      ]
     },
     "metadata": {},
     "output_type": "display_data"
    },
    {
     "data": {
      "text/html": [
       "<pre>Gathering per-item and per-user statistics.</pre>"
      ],
      "text/plain": [
       "Gathering per-item and per-user statistics."
      ]
     },
     "metadata": {},
     "output_type": "display_data"
    },
    {
     "data": {
      "text/html": [
       "<pre>+--------------------------------+------------+</pre>"
      ],
      "text/plain": [
       "+--------------------------------+------------+"
      ]
     },
     "metadata": {},
     "output_type": "display_data"
    },
    {
     "data": {
      "text/html": [
       "<pre>| Elapsed Time (Item Statistics) | % Complete |</pre>"
      ],
      "text/plain": [
       "| Elapsed Time (Item Statistics) | % Complete |"
      ]
     },
     "metadata": {},
     "output_type": "display_data"
    },
    {
     "data": {
      "text/html": [
       "<pre>+--------------------------------+------------+</pre>"
      ],
      "text/plain": [
       "+--------------------------------+------------+"
      ]
     },
     "metadata": {},
     "output_type": "display_data"
    },
    {
     "data": {
      "text/html": [
       "<pre>| 2ms                            | 100        |</pre>"
      ],
      "text/plain": [
       "| 2ms                            | 100        |"
      ]
     },
     "metadata": {},
     "output_type": "display_data"
    },
    {
     "data": {
      "text/html": [
       "<pre>+--------------------------------+------------+</pre>"
      ],
      "text/plain": [
       "+--------------------------------+------------+"
      ]
     },
     "metadata": {},
     "output_type": "display_data"
    },
    {
     "data": {
      "text/html": [
       "<pre>Setting up lookup tables.</pre>"
      ],
      "text/plain": [
       "Setting up lookup tables."
      ]
     },
     "metadata": {},
     "output_type": "display_data"
    },
    {
     "data": {
      "text/html": [
       "<pre>Processing data in one pass using dense lookup tables.</pre>"
      ],
      "text/plain": [
       "Processing data in one pass using dense lookup tables."
      ]
     },
     "metadata": {},
     "output_type": "display_data"
    },
    {
     "data": {
      "text/html": [
       "<pre>+-------------------------------------+------------------+-----------------+</pre>"
      ],
      "text/plain": [
       "+-------------------------------------+------------------+-----------------+"
      ]
     },
     "metadata": {},
     "output_type": "display_data"
    },
    {
     "data": {
      "text/html": [
       "<pre>| Elapsed Time (Constructing Lookups) | Total % Complete | Items Processed |</pre>"
      ],
      "text/plain": [
       "| Elapsed Time (Constructing Lookups) | Total % Complete | Items Processed |"
      ]
     },
     "metadata": {},
     "output_type": "display_data"
    },
    {
     "data": {
      "text/html": [
       "<pre>+-------------------------------------+------------------+-----------------+</pre>"
      ],
      "text/plain": [
       "+-------------------------------------+------------------+-----------------+"
      ]
     },
     "metadata": {},
     "output_type": "display_data"
    },
    {
     "data": {
      "text/html": [
       "<pre>| 58.967ms                            | 7.5              | 71              |</pre>"
      ],
      "text/plain": [
       "| 58.967ms                            | 7.5              | 71              |"
      ]
     },
     "metadata": {},
     "output_type": "display_data"
    },
    {
     "data": {
      "text/html": [
       "<pre>| 74.956ms                            | 100              | 921             |</pre>"
      ],
      "text/plain": [
       "| 74.956ms                            | 100              | 921             |"
      ]
     },
     "metadata": {},
     "output_type": "display_data"
    },
    {
     "data": {
      "text/html": [
       "<pre>+-------------------------------------+------------------+-----------------+</pre>"
      ],
      "text/plain": [
       "+-------------------------------------+------------------+-----------------+"
      ]
     },
     "metadata": {},
     "output_type": "display_data"
    },
    {
     "data": {
      "text/html": [
       "<pre>Finalizing lookup tables.</pre>"
      ],
      "text/plain": [
       "Finalizing lookup tables."
      ]
     },
     "metadata": {},
     "output_type": "display_data"
    },
    {
     "data": {
      "text/html": [
       "<pre>Generating candidate set for working with new users.</pre>"
      ],
      "text/plain": [
       "Generating candidate set for working with new users."
      ]
     },
     "metadata": {},
     "output_type": "display_data"
    },
    {
     "data": {
      "text/html": [
       "<pre>Finished training in 0.08895s</pre>"
      ],
      "text/plain": [
       "Finished training in 0.08895s"
      ]
     },
     "metadata": {},
     "output_type": "display_data"
    },
    {
     "name": "stdout",
     "output_type": "stream",
     "text": [
      "+--------+------+-----------------+------+\n",
      "| UserId | VID  |      score      | rank |\n",
      "+--------+------+-----------------+------+\n",
      "|   1    | 707  |  0.469829291105 |  1   |\n",
      "|   1    | 852  |  0.38471673429  |  2   |\n",
      "|   1    |  52  |  0.337939560413 |  3   |\n",
      "|   1    | 623  |  0.332674577832 |  4   |\n",
      "|   1    | 825  |  0.321471571922 |  5   |\n",
      "|   2    | 861  |  0.37607272329  |  1   |\n",
      "|   2    | 841  |  0.37607272329  |  2   |\n",
      "|   2    | 1234 |  0.33477689891  |  3   |\n",
      "|   2    | 1128 |   0.3248582544  |  4   |\n",
      "|   2    | 847  |  0.193105964825 |  5   |\n",
      "|   3    | 193  | 0.0892018776544 |  1   |\n",
      "|   3    | 376  | 0.0764399288406 |  2   |\n",
      "|   3    |  20  | 0.0716316825907 |  3   |\n",
      "|   3    | 407  | 0.0669014076112 |  4   |\n",
      "|   3    | 935  | 0.0669014076112 |  5   |\n",
      "|   4    | 1217 |  0.336793260574 |  1   |\n",
      "|   4    | 861  |  0.334748545885 |  2   |\n",
      "|   4    | 841  |  0.334748545885 |  3   |\n",
      "|   4    | 126  |  0.332071807384 |  4   |\n",
      "|   4    | 740  |  0.331052273512 |  5   |\n",
      "|   5    | 1186 | 0.0948205341895 |  1   |\n",
      "|   5    | 126  | 0.0869398762782 |  2   |\n",
      "|   5    |  41  | 0.0838955160644 |  3   |\n",
      "|   5    | 1217 | 0.0833022412327 |  4   |\n",
      "|   5    | 841  | 0.0829305979941 |  5   |\n",
      "+--------+------+-----------------+------+\n",
      "[25 rows x 4 columns]\n",
      "\n"
     ]
    }
   ],
   "source": [
    "#Train Model\n",
    "item_sim_model = graphlab.item_similarity_recommender.create(train_data, user_id='UserId', item_id='VID', target='Number_of_Ratings', similarity_type='jaccard')\n",
    "\n",
    "#Make Recommendations:\n",
    "item_sim_recomm = item_sim_model.recommend(users=range(1,6),k=5)\n",
    "item_sim_recomm.print_rows(num_rows=25)"
   ]
  },
  {
   "cell_type": "code",
   "execution_count": 40,
   "metadata": {},
   "outputs": [
    {
     "name": "stdout",
     "output_type": "stream",
     "text": [
      "PROGRESS: Evaluate model M0\n",
      "\n",
      "Precision and recall summary statistics by cutoff\n",
      "+--------+-----------------+-----------------+\n",
      "| cutoff |  mean_precision |   mean_recall   |\n",
      "+--------+-----------------+-----------------+\n",
      "|   1    |       0.0       |       0.0       |\n",
      "|   2    |       0.0       |       0.0       |\n",
      "|   3    |  0.037037037037 | 0.0532407407407 |\n",
      "|   4    | 0.0277777777778 | 0.0532407407407 |\n",
      "|   5    | 0.0222222222222 | 0.0532407407407 |\n",
      "|   6    | 0.0231481481481 | 0.0578703703704 |\n",
      "|   7    | 0.0198412698413 | 0.0578703703704 |\n",
      "|   8    | 0.0208333333333 | 0.0717592592593 |\n",
      "|   9    | 0.0216049382716 |  0.099537037037 |\n",
      "|   10   | 0.0277777777778 |  0.145833333333 |\n",
      "+--------+-----------------+-----------------+\n",
      "[10 rows x 3 columns]\n",
      "\n",
      "PROGRESS: Evaluate model M1\n",
      "\n",
      "Precision and recall summary statistics by cutoff\n",
      "+--------+------------------+-----------------+\n",
      "| cutoff |  mean_precision  |   mean_recall   |\n",
      "+--------+------------------+-----------------+\n",
      "|   1    | 0.0277777777778  | 0.0138888888889 |\n",
      "|   2    | 0.0138888888889  | 0.0138888888889 |\n",
      "|   3    | 0.00925925925926 | 0.0138888888889 |\n",
      "|   4    | 0.00694444444444 | 0.0138888888889 |\n",
      "|   5    | 0.00555555555556 | 0.0138888888889 |\n",
      "|   6    | 0.00925925925926 | 0.0162037037037 |\n",
      "|   7    | 0.0119047619048  | 0.0231481481481 |\n",
      "|   8    | 0.0104166666667  | 0.0231481481481 |\n",
      "|   9    | 0.0123456790123  | 0.0324074074074 |\n",
      "|   10   | 0.0111111111111  | 0.0324074074074 |\n",
      "+--------+------------------+-----------------+\n",
      "[10 rows x 3 columns]\n",
      "\n",
      "Model compare metric: precision_recall\n",
      "Error: Requested port is unavailable: None\n"
     ]
    },
    {
     "ename": "AttributeError",
     "evalue": "'NoneType' object has no attribute 'add_variable'",
     "output_type": "error",
     "traceback": [
      "\u001b[1;31m---------------------------------------------------------------------------\u001b[0m",
      "\u001b[1;31mAttributeError\u001b[0m                            Traceback (most recent call last)",
      "\u001b[1;32m<ipython-input-40-f9d3692a2638>\u001b[0m in \u001b[0;36m<module>\u001b[1;34m()\u001b[0m\n\u001b[0;32m      1\u001b[0m \u001b[0mmodel_performance\u001b[0m \u001b[1;33m=\u001b[0m \u001b[0mgraphlab\u001b[0m\u001b[1;33m.\u001b[0m\u001b[0mcompare\u001b[0m\u001b[1;33m(\u001b[0m\u001b[0mtest_data\u001b[0m\u001b[1;33m,\u001b[0m \u001b[1;33m[\u001b[0m\u001b[0mpopularity_model\u001b[0m\u001b[1;33m,\u001b[0m \u001b[0mitem_sim_model\u001b[0m\u001b[1;33m]\u001b[0m\u001b[1;33m)\u001b[0m\u001b[1;33m\u001b[0m\u001b[0m\n\u001b[1;32m----> 2\u001b[1;33m \u001b[0mgraphlab\u001b[0m\u001b[1;33m.\u001b[0m\u001b[0mshow_comparison\u001b[0m\u001b[1;33m(\u001b[0m\u001b[0mmodel_performance\u001b[0m\u001b[1;33m,\u001b[0m\u001b[1;33m[\u001b[0m\u001b[0mpopularity_model\u001b[0m\u001b[1;33m,\u001b[0m \u001b[0mitem_sim_model\u001b[0m\u001b[1;33m]\u001b[0m\u001b[1;33m)\u001b[0m\u001b[1;33m\u001b[0m\u001b[0m\n\u001b[0m",
      "\u001b[1;32mC:\\Users\\Aakash\\Anaconda2.3\\lib\\site-packages\\graphlab\\toolkits\\comparison.pyc\u001b[0m in \u001b[0;36mshow_comparison\u001b[1;34m(model_comp, models)\u001b[0m\n\u001b[0;32m     70\u001b[0m         \u001b[0mmodels\u001b[0m\u001b[1;33m[\u001b[0m\u001b[0mi\u001b[0m\u001b[1;33m]\u001b[0m\u001b[1;33m.\u001b[0m\u001b[0m_get_workflow\u001b[0m\u001b[1;33m(\u001b[0m\u001b[1;33m)\u001b[0m\u001b[1;33m.\u001b[0m\u001b[0madd_comparison\u001b[0m\u001b[1;33m(\u001b[0m\u001b[0mret\u001b[0m\u001b[1;33m)\u001b[0m\u001b[1;33m\u001b[0m\u001b[0m\n\u001b[0;32m     71\u001b[0m \u001b[1;33m\u001b[0m\u001b[0m\n\u001b[1;32m---> 72\u001b[1;33m     \u001b[1;32mreturn\u001b[0m \u001b[0mmodels\u001b[0m\u001b[1;33m[\u001b[0m\u001b[1;36m0\u001b[0m\u001b[1;33m]\u001b[0m\u001b[1;33m.\u001b[0m\u001b[0mshow\u001b[0m\u001b[1;33m(\u001b[0m\u001b[0mview\u001b[0m\u001b[1;33m=\u001b[0m\u001b[1;34m'Comparison'\u001b[0m\u001b[1;33m)\u001b[0m\u001b[1;33m\u001b[0m\u001b[0m\n\u001b[0m\u001b[0;32m     73\u001b[0m \u001b[1;33m\u001b[0m\u001b[0m\n\u001b[0;32m     74\u001b[0m \u001b[1;32mdef\u001b[0m \u001b[0mcompare\u001b[0m\u001b[1;33m(\u001b[0m\u001b[0mdataset\u001b[0m\u001b[1;33m,\u001b[0m \u001b[0mmodels\u001b[0m\u001b[1;33m,\u001b[0m \u001b[1;33m**\u001b[0m\u001b[0mkwargs\u001b[0m\u001b[1;33m)\u001b[0m\u001b[1;33m:\u001b[0m\u001b[1;33m\u001b[0m\u001b[0m\n",
      "\u001b[1;32mC:\\Users\\Aakash\\Anaconda2.3\\lib\\site-packages\\graphlab\\toolkits\\recommender\\util.pyc\u001b[0m in \u001b[0;36mshow\u001b[1;34m(self, view, model_type)\u001b[0m\n\u001b[0;32m   2372\u001b[0m         \u001b[1;33m>>\u001b[0m\u001b[1;33m>\u001b[0m \u001b[0mm\u001b[0m\u001b[1;33m.\u001b[0m\u001b[0mshow\u001b[0m\u001b[1;33m(\u001b[0m\u001b[1;33m)\u001b[0m\u001b[1;33m\u001b[0m\u001b[0m\n\u001b[0;32m   2373\u001b[0m         \"\"\"\n\u001b[1;32m-> 2374\u001b[1;33m         \u001b[1;32mreturn\u001b[0m \u001b[0msuper\u001b[0m\u001b[1;33m(\u001b[0m\u001b[0m_Recommender\u001b[0m\u001b[1;33m,\u001b[0m \u001b[0mself\u001b[0m\u001b[1;33m)\u001b[0m\u001b[1;33m.\u001b[0m\u001b[0mshow\u001b[0m\u001b[1;33m(\u001b[0m\u001b[0mview\u001b[0m\u001b[1;33m=\u001b[0m\u001b[0mview\u001b[0m\u001b[1;33m,\u001b[0m \u001b[0mmodel_type\u001b[0m\u001b[1;33m=\u001b[0m\u001b[0mmodel_type\u001b[0m\u001b[1;33m)\u001b[0m\u001b[1;33m\u001b[0m\u001b[0m\n\u001b[0m\u001b[0;32m   2375\u001b[0m \u001b[1;33m\u001b[0m\u001b[0m\n\u001b[0;32m   2376\u001b[0m     \u001b[1;32mdef\u001b[0m \u001b[0m_get_popularity_baseline\u001b[0m\u001b[1;33m(\u001b[0m\u001b[0mself\u001b[0m\u001b[1;33m)\u001b[0m\u001b[1;33m:\u001b[0m\u001b[1;33m\u001b[0m\u001b[0m\n",
      "\u001b[1;32mC:\\Users\\Aakash\\Anaconda2.3\\lib\\site-packages\\graphlab\\toolkits\\_model.pyc\u001b[0m in \u001b[0;36mshow\u001b[1;34m(self, view, model_type)\u001b[0m\n\u001b[0;32m    483\u001b[0m         \"\"\"\n\u001b[0;32m    484\u001b[0m         \u001b[1;32mfrom\u001b[0m \u001b[0mgraphlab\u001b[0m\u001b[1;33m.\u001b[0m\u001b[0mvisualization\u001b[0m\u001b[1;33m.\u001b[0m\u001b[0mshow\u001b[0m \u001b[1;32mimport\u001b[0m \u001b[0mshow\u001b[0m\u001b[1;33m\u001b[0m\u001b[0m\n\u001b[1;32m--> 485\u001b[1;33m         \u001b[0mshow\u001b[0m\u001b[1;33m(\u001b[0m\u001b[0mself\u001b[0m\u001b[1;33m,\u001b[0m \u001b[0mview\u001b[0m\u001b[1;33m=\u001b[0m\u001b[0mview\u001b[0m\u001b[1;33m,\u001b[0m \u001b[0mmodel_type\u001b[0m\u001b[1;33m=\u001b[0m\u001b[0mmodel_type\u001b[0m\u001b[1;33m)\u001b[0m\u001b[1;33m\u001b[0m\u001b[0m\n\u001b[0m\u001b[0;32m    486\u001b[0m \u001b[1;33m\u001b[0m\u001b[0m\n\u001b[0;32m    487\u001b[0m     \u001b[1;33m@\u001b[0m\u001b[0mclassmethod\u001b[0m\u001b[1;33m\u001b[0m\u001b[0m\n",
      "\u001b[1;32mC:\\Users\\Aakash\\Anaconda2.3\\lib\\site-packages\\multipledispatch\\dispatcher.pyc\u001b[0m in \u001b[0;36m__call__\u001b[1;34m(self, *args, **kwargs)\u001b[0m\n\u001b[0;32m    208\u001b[0m             \u001b[0mself\u001b[0m\u001b[1;33m.\u001b[0m\u001b[0m_cache\u001b[0m\u001b[1;33m[\u001b[0m\u001b[0mtypes\u001b[0m\u001b[1;33m]\u001b[0m \u001b[1;33m=\u001b[0m \u001b[0mfunc\u001b[0m\u001b[1;33m\u001b[0m\u001b[0m\n\u001b[0;32m    209\u001b[0m         \u001b[1;32mtry\u001b[0m\u001b[1;33m:\u001b[0m\u001b[1;33m\u001b[0m\u001b[0m\n\u001b[1;32m--> 210\u001b[1;33m             \u001b[1;32mreturn\u001b[0m \u001b[0mfunc\u001b[0m\u001b[1;33m(\u001b[0m\u001b[1;33m*\u001b[0m\u001b[0margs\u001b[0m\u001b[1;33m,\u001b[0m \u001b[1;33m**\u001b[0m\u001b[0mkwargs\u001b[0m\u001b[1;33m)\u001b[0m\u001b[1;33m\u001b[0m\u001b[0m\n\u001b[0m\u001b[0;32m    211\u001b[0m \u001b[1;33m\u001b[0m\u001b[0m\n\u001b[0;32m    212\u001b[0m         \u001b[1;32mexcept\u001b[0m \u001b[0mMDNotImplementedError\u001b[0m\u001b[1;33m:\u001b[0m\u001b[1;33m\u001b[0m\u001b[0m\n",
      "\u001b[1;32mC:\\Users\\Aakash\\Anaconda2.3\\lib\\site-packages\\graphlab\\canvas\\glc_display_dispatch.pyc\u001b[0m in \u001b[0;36mshow\u001b[1;34m(obj, **kwargs)\u001b[0m\n\u001b[0;32m     56\u001b[0m     \u001b[1;32mimport\u001b[0m \u001b[0mgraphlab\u001b[0m\u001b[1;33m.\u001b[0m\u001b[0mcanvas\u001b[0m\u001b[1;33m.\u001b[0m\u001b[0minspect\u001b[0m\u001b[1;33m\u001b[0m\u001b[0m\n\u001b[0;32m     57\u001b[0m     \u001b[1;32mimport\u001b[0m \u001b[0mgraphlab\u001b[0m\u001b[1;33m.\u001b[0m\u001b[0mcanvas\u001b[0m\u001b[1;33m.\u001b[0m\u001b[0mviews\u001b[0m\u001b[1;33m.\u001b[0m\u001b[0mmodel\u001b[0m\u001b[1;33m\u001b[0m\u001b[0m\n\u001b[1;32m---> 58\u001b[1;33m     \u001b[0mgraphlab\u001b[0m\u001b[1;33m.\u001b[0m\u001b[0mcanvas\u001b[0m\u001b[1;33m.\u001b[0m\u001b[0minspect\u001b[0m\u001b[1;33m.\u001b[0m\u001b[0mfind_vars\u001b[0m\u001b[1;33m(\u001b[0m\u001b[0mobj\u001b[0m\u001b[1;33m)\u001b[0m\u001b[1;33m\u001b[0m\u001b[0m\n\u001b[0m\u001b[0;32m     59\u001b[0m     \u001b[1;32mreturn\u001b[0m \u001b[0mgraphlab\u001b[0m\u001b[1;33m.\u001b[0m\u001b[0mcanvas\u001b[0m\u001b[1;33m.\u001b[0m\u001b[0mshow\u001b[0m\u001b[1;33m(\u001b[0m\u001b[0mgraphlab\u001b[0m\u001b[1;33m.\u001b[0m\u001b[0mcanvas\u001b[0m\u001b[1;33m.\u001b[0m\u001b[0mviews\u001b[0m\u001b[1;33m.\u001b[0m\u001b[0mmodel\u001b[0m\u001b[1;33m.\u001b[0m\u001b[0mModelView\u001b[0m\u001b[1;33m(\u001b[0m\u001b[0mobj\u001b[0m\u001b[1;33m,\u001b[0m \u001b[0mparams\u001b[0m\u001b[1;33m=\u001b[0m\u001b[0mkwargs\u001b[0m\u001b[1;33m)\u001b[0m\u001b[1;33m)\u001b[0m\u001b[1;33m\u001b[0m\u001b[0m\n",
      "\u001b[1;32mC:\\Users\\Aakash\\Anaconda2.3\\lib\\site-packages\\graphlab\\canvas\\inspect.pyc\u001b[0m in \u001b[0;36mfind_vars\u001b[1;34m(var)\u001b[0m\n\u001b[0;32m     42\u001b[0m     \u001b[1;33m(\u001b[0m\u001b[0mvariable_name\u001b[0m\u001b[1;33m,\u001b[0m \u001b[0mvariable\u001b[0m\u001b[1;33m)\u001b[0m \u001b[1;33m=\u001b[0m \u001b[0m_find_variable_name\u001b[0m\u001b[1;33m(\u001b[0m\u001b[0mvar\u001b[0m\u001b[1;33m)\u001b[0m\u001b[1;33m\u001b[0m\u001b[0m\n\u001b[0;32m     43\u001b[0m     \u001b[1;32mif\u001b[0m \u001b[0mvariable_name\u001b[0m \u001b[1;32mis\u001b[0m \u001b[1;32mnot\u001b[0m \u001b[0mNone\u001b[0m\u001b[1;33m:\u001b[0m\u001b[1;33m\u001b[0m\u001b[0m\n\u001b[1;32m---> 44\u001b[1;33m         \u001b[0mtarget\u001b[0m\u001b[1;33m.\u001b[0m\u001b[0madd_variable\u001b[0m\u001b[1;33m(\u001b[0m\u001b[1;33m(\u001b[0m\u001b[0mvariable_name\u001b[0m\u001b[1;33m,\u001b[0m\u001b[1;33m)\u001b[0m\u001b[1;33m,\u001b[0m \u001b[0mvariable\u001b[0m\u001b[1;33m)\u001b[0m\u001b[1;33m\u001b[0m\u001b[0m\n\u001b[0m\u001b[0;32m     45\u001b[0m     \u001b[1;32mreturn\u001b[0m \u001b[0mvariable_name\u001b[0m\u001b[1;33m\u001b[0m\u001b[0m\n\u001b[0;32m     46\u001b[0m \u001b[1;33m\u001b[0m\u001b[0m\n",
      "\u001b[1;31mAttributeError\u001b[0m: 'NoneType' object has no attribute 'add_variable'"
     ]
    }
   ],
   "source": [
    "model_performance = graphlab.compare(test_data, [popularity_model, item_sim_model])\n",
    "graphlab.show_comparison(model_performance,[popularity_model, item_sim_model])"
   ]
  },
  {
   "cell_type": "code",
   "execution_count": 43,
   "metadata": {},
   "outputs": [
    {
     "data": {
      "text/html": [
       "<pre>Recsys training: model = item_similarity</pre>"
      ],
      "text/plain": [
       "Recsys training: model = item_similarity"
      ]
     },
     "metadata": {},
     "output_type": "display_data"
    },
    {
     "data": {
      "text/html": [
       "<pre>Preparing data set.</pre>"
      ],
      "text/plain": [
       "Preparing data set."
      ]
     },
     "metadata": {},
     "output_type": "display_data"
    },
    {
     "data": {
      "text/html": [
       "<pre>    Data has 2438 observations with 79 users and 921 items.</pre>"
      ],
      "text/plain": [
       "    Data has 2438 observations with 79 users and 921 items."
      ]
     },
     "metadata": {},
     "output_type": "display_data"
    },
    {
     "data": {
      "text/html": [
       "<pre>    Data prepared in: 0.009995s</pre>"
      ],
      "text/plain": [
       "    Data prepared in: 0.009995s"
      ]
     },
     "metadata": {},
     "output_type": "display_data"
    },
    {
     "data": {
      "text/html": [
       "<pre>Training model from provided data.</pre>"
      ],
      "text/plain": [
       "Training model from provided data."
      ]
     },
     "metadata": {},
     "output_type": "display_data"
    },
    {
     "data": {
      "text/html": [
       "<pre>Gathering per-item and per-user statistics.</pre>"
      ],
      "text/plain": [
       "Gathering per-item and per-user statistics."
      ]
     },
     "metadata": {},
     "output_type": "display_data"
    },
    {
     "data": {
      "text/html": [
       "<pre>+--------------------------------+------------+</pre>"
      ],
      "text/plain": [
       "+--------------------------------+------------+"
      ]
     },
     "metadata": {},
     "output_type": "display_data"
    },
    {
     "data": {
      "text/html": [
       "<pre>| Elapsed Time (Item Statistics) | % Complete |</pre>"
      ],
      "text/plain": [
       "| Elapsed Time (Item Statistics) | % Complete |"
      ]
     },
     "metadata": {},
     "output_type": "display_data"
    },
    {
     "data": {
      "text/html": [
       "<pre>+--------------------------------+------------+</pre>"
      ],
      "text/plain": [
       "+--------------------------------+------------+"
      ]
     },
     "metadata": {},
     "output_type": "display_data"
    },
    {
     "data": {
      "text/html": [
       "<pre>| 999us                          | 100        |</pre>"
      ],
      "text/plain": [
       "| 999us                          | 100        |"
      ]
     },
     "metadata": {},
     "output_type": "display_data"
    },
    {
     "data": {
      "text/html": [
       "<pre>+--------------------------------+------------+</pre>"
      ],
      "text/plain": [
       "+--------------------------------+------------+"
      ]
     },
     "metadata": {},
     "output_type": "display_data"
    },
    {
     "data": {
      "text/html": [
       "<pre>Setting up lookup tables.</pre>"
      ],
      "text/plain": [
       "Setting up lookup tables."
      ]
     },
     "metadata": {},
     "output_type": "display_data"
    },
    {
     "data": {
      "text/html": [
       "<pre>Processing data in one pass using dense lookup tables.</pre>"
      ],
      "text/plain": [
       "Processing data in one pass using dense lookup tables."
      ]
     },
     "metadata": {},
     "output_type": "display_data"
    },
    {
     "data": {
      "text/html": [
       "<pre>+-------------------------------------+------------------+-----------------+</pre>"
      ],
      "text/plain": [
       "+-------------------------------------+------------------+-----------------+"
      ]
     },
     "metadata": {},
     "output_type": "display_data"
    },
    {
     "data": {
      "text/html": [
       "<pre>| Elapsed Time (Constructing Lookups) | Total % Complete | Items Processed |</pre>"
      ],
      "text/plain": [
       "| Elapsed Time (Constructing Lookups) | Total % Complete | Items Processed |"
      ]
     },
     "metadata": {},
     "output_type": "display_data"
    },
    {
     "data": {
      "text/html": [
       "<pre>+-------------------------------------+------------------+-----------------+</pre>"
      ],
      "text/plain": [
       "+-------------------------------------+------------------+-----------------+"
      ]
     },
     "metadata": {},
     "output_type": "display_data"
    },
    {
     "data": {
      "text/html": [
       "<pre>| 6.995ms                             | 7.5              | 71              |</pre>"
      ],
      "text/plain": [
       "| 6.995ms                             | 7.5              | 71              |"
      ]
     },
     "metadata": {},
     "output_type": "display_data"
    },
    {
     "data": {
      "text/html": [
       "<pre>| 29.983ms                            | 100              | 921             |</pre>"
      ],
      "text/plain": [
       "| 29.983ms                            | 100              | 921             |"
      ]
     },
     "metadata": {},
     "output_type": "display_data"
    },
    {
     "data": {
      "text/html": [
       "<pre>+-------------------------------------+------------------+-----------------+</pre>"
      ],
      "text/plain": [
       "+-------------------------------------+------------------+-----------------+"
      ]
     },
     "metadata": {},
     "output_type": "display_data"
    },
    {
     "name": "stdout",
     "output_type": "stream",
     "text": [
      "+--------+------+-----------------+------+\n",
      "| UserId | VID  |      score      | rank |\n",
      "+--------+------+-----------------+------+\n",
      "|   1    |  46  |  43.4282528609  |  1   |\n",
      "|   1    | 696  |  37.8945340067  |  2   |\n",
      "|   1    |  54  |  31.7632992715  |  3   |\n",
      "|   1    |  26  |  31.5848049521  |  4   |\n",
      "|   1    | 365  |  30.8769961149  |  5   |\n",
      "|   2    | 1234 |  1.84987850641  |  1   |\n",
      "|   2    | 861  |  1.45776599851  |  2   |\n",
      "|   2    | 1128 |  0.446191691119 |  3   |\n",
      "|   2    | 841  |  0.369926171056 |  4   |\n",
      "|   2    |  20  |  0.304294107289 |  5   |\n",
      "|   3    |  20  |  0.222626911922 |  1   |\n",
      "|   3    | 407  |  0.191129970718 |  2   |\n",
      "|   3    | 935  |  0.191129970718 |  3   |\n",
      "|   3    | 229  |  0.188770623274 |  4   |\n",
      "|   3    | 473  |  0.184678892015 |  5   |\n",
      "|   4    |  46  | 0.0637783610821 |  1   |\n",
      "|   4    | 696  | 0.0568599557877 |  2   |\n",
      "|   4    | 861  | 0.0500605082512 |  3   |\n",
      "|   4    |  54  | 0.0497315466404 |  4   |\n",
      "|   4    | 213  | 0.0401076412201 |  5   |\n",
      "|   5    | 861  |  2.27189116346  |  1   |\n",
      "|   5    | 1186 |  1.03447376192  |  2   |\n",
      "|   5    | 1235 |  0.784491628408 |  3   |\n",
      "|   5    |  41  |  0.578685177697 |  4   |\n",
      "|   5    | 1234 |  0.440208625462 |  5   |\n",
      "+--------+------+-----------------+------+\n",
      "[25 rows x 4 columns]\n",
      "\n"
     ]
    },
    {
     "data": {
      "text/html": [
       "<pre>Finalizing lookup tables.</pre>"
      ],
      "text/plain": [
       "Finalizing lookup tables."
      ]
     },
     "metadata": {},
     "output_type": "display_data"
    },
    {
     "data": {
      "text/html": [
       "<pre>Generating candidate set for working with new users.</pre>"
      ],
      "text/plain": [
       "Generating candidate set for working with new users."
      ]
     },
     "metadata": {},
     "output_type": "display_data"
    },
    {
     "data": {
      "text/html": [
       "<pre>Finished training in 0.03298s</pre>"
      ],
      "text/plain": [
       "Finished training in 0.03298s"
      ]
     },
     "metadata": {},
     "output_type": "display_data"
    }
   ],
   "source": [
    "#Train Model\n",
    "item_sim_model_cosine = graphlab.item_similarity_recommender.create(train_data, user_id='UserId', item_id='VID', target='Number_of_Ratings', similarity_type='cosine')\n",
    "\n",
    "#Make Recommendations:\n",
    "item_sim_recomm = item_sim_model_cosine.recommend(users=range(1,6),k=5)\n",
    "item_sim_recomm.print_rows(num_rows=25)"
   ]
  },
  {
   "cell_type": "code",
   "execution_count": 44,
   "metadata": {},
   "outputs": [
    {
     "name": "stdout",
     "output_type": "stream",
     "text": [
      "PROGRESS: Evaluate model M0\n",
      "\n",
      "Precision and recall summary statistics by cutoff\n",
      "+--------+-----------------+-----------------+\n",
      "| cutoff |  mean_precision |   mean_recall   |\n",
      "+--------+-----------------+-----------------+\n",
      "|   1    |       0.0       |       0.0       |\n",
      "|   2    |       0.0       |       0.0       |\n",
      "|   3    |  0.037037037037 | 0.0532407407407 |\n",
      "|   4    | 0.0277777777778 | 0.0532407407407 |\n",
      "|   5    | 0.0222222222222 | 0.0532407407407 |\n",
      "|   6    | 0.0231481481481 | 0.0578703703704 |\n",
      "|   7    | 0.0198412698413 | 0.0578703703704 |\n",
      "|   8    | 0.0208333333333 | 0.0717592592593 |\n",
      "|   9    | 0.0216049382716 |  0.099537037037 |\n",
      "|   10   | 0.0277777777778 |  0.145833333333 |\n",
      "+--------+-----------------+-----------------+\n",
      "[10 rows x 3 columns]\n",
      "\n",
      "PROGRESS: Evaluate model M1\n",
      "\n",
      "Precision and recall summary statistics by cutoff\n",
      "+--------+------------------+------------------+\n",
      "| cutoff |  mean_precision  |   mean_recall    |\n",
      "+--------+------------------+------------------+\n",
      "|   1    |       0.0        |       0.0        |\n",
      "|   2    |       0.0        |       0.0        |\n",
      "|   3    |       0.0        |       0.0        |\n",
      "|   4    | 0.00694444444444 | 0.00925925925926 |\n",
      "|   5    | 0.00555555555556 | 0.00925925925926 |\n",
      "|   6    | 0.00462962962963 | 0.00925925925926 |\n",
      "|   7    | 0.00396825396825 | 0.00925925925926 |\n",
      "|   8    | 0.00347222222222 | 0.00925925925926 |\n",
      "|   9    | 0.00308641975309 | 0.00925925925926 |\n",
      "|   10   | 0.00277777777778 | 0.00925925925926 |\n",
      "+--------+------------------+------------------+\n",
      "[10 rows x 3 columns]\n",
      "\n",
      "Model compare metric: precision_recall\n",
      "Error: Requested port is unavailable: None\n"
     ]
    },
    {
     "ename": "AttributeError",
     "evalue": "'NoneType' object has no attribute 'add_variable'",
     "output_type": "error",
     "traceback": [
      "\u001b[1;31m---------------------------------------------------------------------------\u001b[0m",
      "\u001b[1;31mAttributeError\u001b[0m                            Traceback (most recent call last)",
      "\u001b[1;32m<ipython-input-44-dad4567811aa>\u001b[0m in \u001b[0;36m<module>\u001b[1;34m()\u001b[0m\n\u001b[0;32m      1\u001b[0m \u001b[0mmodel_performance\u001b[0m \u001b[1;33m=\u001b[0m \u001b[0mgraphlab\u001b[0m\u001b[1;33m.\u001b[0m\u001b[0mcompare\u001b[0m\u001b[1;33m(\u001b[0m\u001b[0mtest_data\u001b[0m\u001b[1;33m,\u001b[0m \u001b[1;33m[\u001b[0m\u001b[0mpopularity_model\u001b[0m\u001b[1;33m,\u001b[0m \u001b[0mitem_sim_model_cosine\u001b[0m\u001b[1;33m]\u001b[0m\u001b[1;33m)\u001b[0m\u001b[1;33m\u001b[0m\u001b[0m\n\u001b[1;32m----> 2\u001b[1;33m \u001b[0mgraphlab\u001b[0m\u001b[1;33m.\u001b[0m\u001b[0mshow_comparison\u001b[0m\u001b[1;33m(\u001b[0m\u001b[0mmodel_performance\u001b[0m\u001b[1;33m,\u001b[0m\u001b[1;33m[\u001b[0m\u001b[0mpopularity_model\u001b[0m\u001b[1;33m,\u001b[0m \u001b[0mitem_sim_model_cosine\u001b[0m\u001b[1;33m]\u001b[0m\u001b[1;33m)\u001b[0m\u001b[1;33m\u001b[0m\u001b[0m\n\u001b[0m",
      "\u001b[1;32mC:\\Users\\Aakash\\Anaconda2.3\\lib\\site-packages\\graphlab\\toolkits\\comparison.pyc\u001b[0m in \u001b[0;36mshow_comparison\u001b[1;34m(model_comp, models)\u001b[0m\n\u001b[0;32m     70\u001b[0m         \u001b[0mmodels\u001b[0m\u001b[1;33m[\u001b[0m\u001b[0mi\u001b[0m\u001b[1;33m]\u001b[0m\u001b[1;33m.\u001b[0m\u001b[0m_get_workflow\u001b[0m\u001b[1;33m(\u001b[0m\u001b[1;33m)\u001b[0m\u001b[1;33m.\u001b[0m\u001b[0madd_comparison\u001b[0m\u001b[1;33m(\u001b[0m\u001b[0mret\u001b[0m\u001b[1;33m)\u001b[0m\u001b[1;33m\u001b[0m\u001b[0m\n\u001b[0;32m     71\u001b[0m \u001b[1;33m\u001b[0m\u001b[0m\n\u001b[1;32m---> 72\u001b[1;33m     \u001b[1;32mreturn\u001b[0m \u001b[0mmodels\u001b[0m\u001b[1;33m[\u001b[0m\u001b[1;36m0\u001b[0m\u001b[1;33m]\u001b[0m\u001b[1;33m.\u001b[0m\u001b[0mshow\u001b[0m\u001b[1;33m(\u001b[0m\u001b[0mview\u001b[0m\u001b[1;33m=\u001b[0m\u001b[1;34m'Comparison'\u001b[0m\u001b[1;33m)\u001b[0m\u001b[1;33m\u001b[0m\u001b[0m\n\u001b[0m\u001b[0;32m     73\u001b[0m \u001b[1;33m\u001b[0m\u001b[0m\n\u001b[0;32m     74\u001b[0m \u001b[1;32mdef\u001b[0m \u001b[0mcompare\u001b[0m\u001b[1;33m(\u001b[0m\u001b[0mdataset\u001b[0m\u001b[1;33m,\u001b[0m \u001b[0mmodels\u001b[0m\u001b[1;33m,\u001b[0m \u001b[1;33m**\u001b[0m\u001b[0mkwargs\u001b[0m\u001b[1;33m)\u001b[0m\u001b[1;33m:\u001b[0m\u001b[1;33m\u001b[0m\u001b[0m\n",
      "\u001b[1;32mC:\\Users\\Aakash\\Anaconda2.3\\lib\\site-packages\\graphlab\\toolkits\\recommender\\util.pyc\u001b[0m in \u001b[0;36mshow\u001b[1;34m(self, view, model_type)\u001b[0m\n\u001b[0;32m   2372\u001b[0m         \u001b[1;33m>>\u001b[0m\u001b[1;33m>\u001b[0m \u001b[0mm\u001b[0m\u001b[1;33m.\u001b[0m\u001b[0mshow\u001b[0m\u001b[1;33m(\u001b[0m\u001b[1;33m)\u001b[0m\u001b[1;33m\u001b[0m\u001b[0m\n\u001b[0;32m   2373\u001b[0m         \"\"\"\n\u001b[1;32m-> 2374\u001b[1;33m         \u001b[1;32mreturn\u001b[0m \u001b[0msuper\u001b[0m\u001b[1;33m(\u001b[0m\u001b[0m_Recommender\u001b[0m\u001b[1;33m,\u001b[0m \u001b[0mself\u001b[0m\u001b[1;33m)\u001b[0m\u001b[1;33m.\u001b[0m\u001b[0mshow\u001b[0m\u001b[1;33m(\u001b[0m\u001b[0mview\u001b[0m\u001b[1;33m=\u001b[0m\u001b[0mview\u001b[0m\u001b[1;33m,\u001b[0m \u001b[0mmodel_type\u001b[0m\u001b[1;33m=\u001b[0m\u001b[0mmodel_type\u001b[0m\u001b[1;33m)\u001b[0m\u001b[1;33m\u001b[0m\u001b[0m\n\u001b[0m\u001b[0;32m   2375\u001b[0m \u001b[1;33m\u001b[0m\u001b[0m\n\u001b[0;32m   2376\u001b[0m     \u001b[1;32mdef\u001b[0m \u001b[0m_get_popularity_baseline\u001b[0m\u001b[1;33m(\u001b[0m\u001b[0mself\u001b[0m\u001b[1;33m)\u001b[0m\u001b[1;33m:\u001b[0m\u001b[1;33m\u001b[0m\u001b[0m\n",
      "\u001b[1;32mC:\\Users\\Aakash\\Anaconda2.3\\lib\\site-packages\\graphlab\\toolkits\\_model.pyc\u001b[0m in \u001b[0;36mshow\u001b[1;34m(self, view, model_type)\u001b[0m\n\u001b[0;32m    483\u001b[0m         \"\"\"\n\u001b[0;32m    484\u001b[0m         \u001b[1;32mfrom\u001b[0m \u001b[0mgraphlab\u001b[0m\u001b[1;33m.\u001b[0m\u001b[0mvisualization\u001b[0m\u001b[1;33m.\u001b[0m\u001b[0mshow\u001b[0m \u001b[1;32mimport\u001b[0m \u001b[0mshow\u001b[0m\u001b[1;33m\u001b[0m\u001b[0m\n\u001b[1;32m--> 485\u001b[1;33m         \u001b[0mshow\u001b[0m\u001b[1;33m(\u001b[0m\u001b[0mself\u001b[0m\u001b[1;33m,\u001b[0m \u001b[0mview\u001b[0m\u001b[1;33m=\u001b[0m\u001b[0mview\u001b[0m\u001b[1;33m,\u001b[0m \u001b[0mmodel_type\u001b[0m\u001b[1;33m=\u001b[0m\u001b[0mmodel_type\u001b[0m\u001b[1;33m)\u001b[0m\u001b[1;33m\u001b[0m\u001b[0m\n\u001b[0m\u001b[0;32m    486\u001b[0m \u001b[1;33m\u001b[0m\u001b[0m\n\u001b[0;32m    487\u001b[0m     \u001b[1;33m@\u001b[0m\u001b[0mclassmethod\u001b[0m\u001b[1;33m\u001b[0m\u001b[0m\n",
      "\u001b[1;32mC:\\Users\\Aakash\\Anaconda2.3\\lib\\site-packages\\multipledispatch\\dispatcher.pyc\u001b[0m in \u001b[0;36m__call__\u001b[1;34m(self, *args, **kwargs)\u001b[0m\n\u001b[0;32m    208\u001b[0m             \u001b[0mself\u001b[0m\u001b[1;33m.\u001b[0m\u001b[0m_cache\u001b[0m\u001b[1;33m[\u001b[0m\u001b[0mtypes\u001b[0m\u001b[1;33m]\u001b[0m \u001b[1;33m=\u001b[0m \u001b[0mfunc\u001b[0m\u001b[1;33m\u001b[0m\u001b[0m\n\u001b[0;32m    209\u001b[0m         \u001b[1;32mtry\u001b[0m\u001b[1;33m:\u001b[0m\u001b[1;33m\u001b[0m\u001b[0m\n\u001b[1;32m--> 210\u001b[1;33m             \u001b[1;32mreturn\u001b[0m \u001b[0mfunc\u001b[0m\u001b[1;33m(\u001b[0m\u001b[1;33m*\u001b[0m\u001b[0margs\u001b[0m\u001b[1;33m,\u001b[0m \u001b[1;33m**\u001b[0m\u001b[0mkwargs\u001b[0m\u001b[1;33m)\u001b[0m\u001b[1;33m\u001b[0m\u001b[0m\n\u001b[0m\u001b[0;32m    211\u001b[0m \u001b[1;33m\u001b[0m\u001b[0m\n\u001b[0;32m    212\u001b[0m         \u001b[1;32mexcept\u001b[0m \u001b[0mMDNotImplementedError\u001b[0m\u001b[1;33m:\u001b[0m\u001b[1;33m\u001b[0m\u001b[0m\n",
      "\u001b[1;32mC:\\Users\\Aakash\\Anaconda2.3\\lib\\site-packages\\graphlab\\canvas\\glc_display_dispatch.pyc\u001b[0m in \u001b[0;36mshow\u001b[1;34m(obj, **kwargs)\u001b[0m\n\u001b[0;32m     56\u001b[0m     \u001b[1;32mimport\u001b[0m \u001b[0mgraphlab\u001b[0m\u001b[1;33m.\u001b[0m\u001b[0mcanvas\u001b[0m\u001b[1;33m.\u001b[0m\u001b[0minspect\u001b[0m\u001b[1;33m\u001b[0m\u001b[0m\n\u001b[0;32m     57\u001b[0m     \u001b[1;32mimport\u001b[0m \u001b[0mgraphlab\u001b[0m\u001b[1;33m.\u001b[0m\u001b[0mcanvas\u001b[0m\u001b[1;33m.\u001b[0m\u001b[0mviews\u001b[0m\u001b[1;33m.\u001b[0m\u001b[0mmodel\u001b[0m\u001b[1;33m\u001b[0m\u001b[0m\n\u001b[1;32m---> 58\u001b[1;33m     \u001b[0mgraphlab\u001b[0m\u001b[1;33m.\u001b[0m\u001b[0mcanvas\u001b[0m\u001b[1;33m.\u001b[0m\u001b[0minspect\u001b[0m\u001b[1;33m.\u001b[0m\u001b[0mfind_vars\u001b[0m\u001b[1;33m(\u001b[0m\u001b[0mobj\u001b[0m\u001b[1;33m)\u001b[0m\u001b[1;33m\u001b[0m\u001b[0m\n\u001b[0m\u001b[0;32m     59\u001b[0m     \u001b[1;32mreturn\u001b[0m \u001b[0mgraphlab\u001b[0m\u001b[1;33m.\u001b[0m\u001b[0mcanvas\u001b[0m\u001b[1;33m.\u001b[0m\u001b[0mshow\u001b[0m\u001b[1;33m(\u001b[0m\u001b[0mgraphlab\u001b[0m\u001b[1;33m.\u001b[0m\u001b[0mcanvas\u001b[0m\u001b[1;33m.\u001b[0m\u001b[0mviews\u001b[0m\u001b[1;33m.\u001b[0m\u001b[0mmodel\u001b[0m\u001b[1;33m.\u001b[0m\u001b[0mModelView\u001b[0m\u001b[1;33m(\u001b[0m\u001b[0mobj\u001b[0m\u001b[1;33m,\u001b[0m \u001b[0mparams\u001b[0m\u001b[1;33m=\u001b[0m\u001b[0mkwargs\u001b[0m\u001b[1;33m)\u001b[0m\u001b[1;33m)\u001b[0m\u001b[1;33m\u001b[0m\u001b[0m\n",
      "\u001b[1;32mC:\\Users\\Aakash\\Anaconda2.3\\lib\\site-packages\\graphlab\\canvas\\inspect.pyc\u001b[0m in \u001b[0;36mfind_vars\u001b[1;34m(var)\u001b[0m\n\u001b[0;32m     42\u001b[0m     \u001b[1;33m(\u001b[0m\u001b[0mvariable_name\u001b[0m\u001b[1;33m,\u001b[0m \u001b[0mvariable\u001b[0m\u001b[1;33m)\u001b[0m \u001b[1;33m=\u001b[0m \u001b[0m_find_variable_name\u001b[0m\u001b[1;33m(\u001b[0m\u001b[0mvar\u001b[0m\u001b[1;33m)\u001b[0m\u001b[1;33m\u001b[0m\u001b[0m\n\u001b[0;32m     43\u001b[0m     \u001b[1;32mif\u001b[0m \u001b[0mvariable_name\u001b[0m \u001b[1;32mis\u001b[0m \u001b[1;32mnot\u001b[0m \u001b[0mNone\u001b[0m\u001b[1;33m:\u001b[0m\u001b[1;33m\u001b[0m\u001b[0m\n\u001b[1;32m---> 44\u001b[1;33m         \u001b[0mtarget\u001b[0m\u001b[1;33m.\u001b[0m\u001b[0madd_variable\u001b[0m\u001b[1;33m(\u001b[0m\u001b[1;33m(\u001b[0m\u001b[0mvariable_name\u001b[0m\u001b[1;33m,\u001b[0m\u001b[1;33m)\u001b[0m\u001b[1;33m,\u001b[0m \u001b[0mvariable\u001b[0m\u001b[1;33m)\u001b[0m\u001b[1;33m\u001b[0m\u001b[0m\n\u001b[0m\u001b[0;32m     45\u001b[0m     \u001b[1;32mreturn\u001b[0m \u001b[0mvariable_name\u001b[0m\u001b[1;33m\u001b[0m\u001b[0m\n\u001b[0;32m     46\u001b[0m \u001b[1;33m\u001b[0m\u001b[0m\n",
      "\u001b[1;31mAttributeError\u001b[0m: 'NoneType' object has no attribute 'add_variable'"
     ]
    }
   ],
   "source": [
    "model_performance = graphlab.compare(test_data, [popularity_model, item_sim_model_cosine])\n",
    "graphlab.show_comparison(model_performance,[popularity_model, item_sim_model_cosine])"
   ]
  },
  {
   "cell_type": "code",
   "execution_count": 46,
   "metadata": {},
   "outputs": [
    {
     "data": {
      "text/html": [
       "<pre>Recsys training: model = item_similarity</pre>"
      ],
      "text/plain": [
       "Recsys training: model = item_similarity"
      ]
     },
     "metadata": {},
     "output_type": "display_data"
    },
    {
     "data": {
      "text/html": [
       "<pre>Preparing data set.</pre>"
      ],
      "text/plain": [
       "Preparing data set."
      ]
     },
     "metadata": {},
     "output_type": "display_data"
    },
    {
     "data": {
      "text/html": [
       "<pre>    Data has 2438 observations with 79 users and 921 items.</pre>"
      ],
      "text/plain": [
       "    Data has 2438 observations with 79 users and 921 items."
      ]
     },
     "metadata": {},
     "output_type": "display_data"
    },
    {
     "data": {
      "text/html": [
       "<pre>    Data prepared in: 0.008997s</pre>"
      ],
      "text/plain": [
       "    Data prepared in: 0.008997s"
      ]
     },
     "metadata": {},
     "output_type": "display_data"
    },
    {
     "data": {
      "text/html": [
       "<pre>Training model from provided data.</pre>"
      ],
      "text/plain": [
       "Training model from provided data."
      ]
     },
     "metadata": {},
     "output_type": "display_data"
    },
    {
     "data": {
      "text/html": [
       "<pre>Gathering per-item and per-user statistics.</pre>"
      ],
      "text/plain": [
       "Gathering per-item and per-user statistics."
      ]
     },
     "metadata": {},
     "output_type": "display_data"
    },
    {
     "data": {
      "text/html": [
       "<pre>+--------------------------------+------------+</pre>"
      ],
      "text/plain": [
       "+--------------------------------+------------+"
      ]
     },
     "metadata": {},
     "output_type": "display_data"
    },
    {
     "data": {
      "text/html": [
       "<pre>| Elapsed Time (Item Statistics) | % Complete |</pre>"
      ],
      "text/plain": [
       "| Elapsed Time (Item Statistics) | % Complete |"
      ]
     },
     "metadata": {},
     "output_type": "display_data"
    },
    {
     "data": {
      "text/html": [
       "<pre>+--------------------------------+------------+</pre>"
      ],
      "text/plain": [
       "+--------------------------------+------------+"
      ]
     },
     "metadata": {},
     "output_type": "display_data"
    },
    {
     "data": {
      "text/html": [
       "<pre>| 0us                            | 100        |</pre>"
      ],
      "text/plain": [
       "| 0us                            | 100        |"
      ]
     },
     "metadata": {},
     "output_type": "display_data"
    },
    {
     "data": {
      "text/html": [
       "<pre>+--------------------------------+------------+</pre>"
      ],
      "text/plain": [
       "+--------------------------------+------------+"
      ]
     },
     "metadata": {},
     "output_type": "display_data"
    },
    {
     "data": {
      "text/html": [
       "<pre>Setting up lookup tables.</pre>"
      ],
      "text/plain": [
       "Setting up lookup tables."
      ]
     },
     "metadata": {},
     "output_type": "display_data"
    },
    {
     "data": {
      "text/html": [
       "<pre>Processing data in one pass using dense lookup tables.</pre>"
      ],
      "text/plain": [
       "Processing data in one pass using dense lookup tables."
      ]
     },
     "metadata": {},
     "output_type": "display_data"
    },
    {
     "data": {
      "text/html": [
       "<pre>+-------------------------------------+------------------+-----------------+</pre>"
      ],
      "text/plain": [
       "+-------------------------------------+------------------+-----------------+"
      ]
     },
     "metadata": {},
     "output_type": "display_data"
    },
    {
     "data": {
      "text/html": [
       "<pre>| Elapsed Time (Constructing Lookups) | Total % Complete | Items Processed |</pre>"
      ],
      "text/plain": [
       "| Elapsed Time (Constructing Lookups) | Total % Complete | Items Processed |"
      ]
     },
     "metadata": {},
     "output_type": "display_data"
    },
    {
     "data": {
      "text/html": [
       "<pre>+-------------------------------------+------------------+-----------------+</pre>"
      ],
      "text/plain": [
       "+-------------------------------------+------------------+-----------------+"
      ]
     },
     "metadata": {},
     "output_type": "display_data"
    },
    {
     "data": {
      "text/html": [
       "<pre>| 4.994ms                             | 7.5              | 71              |</pre>"
      ],
      "text/plain": [
       "| 4.994ms                             | 7.5              | 71              |"
      ]
     },
     "metadata": {},
     "output_type": "display_data"
    },
    {
     "data": {
      "text/html": [
       "<pre>| 19.986ms                            | 100              | 921             |</pre>"
      ],
      "text/plain": [
       "| 19.986ms                            | 100              | 921             |"
      ]
     },
     "metadata": {},
     "output_type": "display_data"
    },
    {
     "data": {
      "text/html": [
       "<pre>+-------------------------------------+------------------+-----------------+</pre>"
      ],
      "text/plain": [
       "+-------------------------------------+------------------+-----------------+"
      ]
     },
     "metadata": {},
     "output_type": "display_data"
    },
    {
     "data": {
      "text/html": [
       "<pre>Finalizing lookup tables.</pre>"
      ],
      "text/plain": [
       "Finalizing lookup tables."
      ]
     },
     "metadata": {},
     "output_type": "display_data"
    },
    {
     "data": {
      "text/html": [
       "<pre>Generating candidate set for working with new users.</pre>"
      ],
      "text/plain": [
       "Generating candidate set for working with new users."
      ]
     },
     "metadata": {},
     "output_type": "display_data"
    },
    {
     "data": {
      "text/html": [
       "<pre>Finished training in 0.022983s</pre>"
      ],
      "text/plain": [
       "Finished training in 0.022983s"
      ]
     },
     "metadata": {},
     "output_type": "display_data"
    },
    {
     "name": "stdout",
     "output_type": "stream",
     "text": [
      "+--------+------+---------------+------+\n",
      "| UserId | VID  |     score     | rank |\n",
      "+--------+------+---------------+------+\n",
      "|   1    | 1074 |      55.0     |  1   |\n",
      "|   1    | 305  |      40.4     |  2   |\n",
      "|   1    | 542  |      18.0     |  3   |\n",
      "|   1    | 293  |      17.0     |  4   |\n",
      "|   1    | 831  |      14.0     |  5   |\n",
      "|   2    | 1074 |      55.0     |  1   |\n",
      "|   2    | 305  | 40.3789635334 |  2   |\n",
      "|   2    | 229  | 29.0967741935 |  3   |\n",
      "|   2    | 542  |      18.0     |  4   |\n",
      "|   2    | 293  | 16.9857178783 |  5   |\n",
      "|   3    | 1074 |      55.0     |  1   |\n",
      "|   3    | 305  | 40.3994829734 |  2   |\n",
      "|   3    | 229  | 29.0949951586 |  3   |\n",
      "|   3    | 542  |      18.0     |  4   |\n",
      "|   3    | 293  | 16.9864066974 |  5   |\n",
      "|   4    | 1074 |      55.0     |  1   |\n",
      "|   4    | 305  | 40.3636619961 |  2   |\n",
      "|   4    | 229  | 29.0384909683 |  3   |\n",
      "|   4    | 542  |      18.0     |  4   |\n",
      "|   4    | 293  | 16.9677431369 |  5   |\n",
      "|   5    | 1074 |      55.0     |  1   |\n",
      "|   5    | 305  | 40.3931871957 |  2   |\n",
      "|   5    | 542  |      18.0     |  3   |\n",
      "|   5    | 293  | 17.0119723529 |  4   |\n",
      "|   5    | 132  | 16.5798194524 |  5   |\n",
      "+--------+------+---------------+------+\n",
      "[25 rows x 4 columns]\n",
      "\n"
     ]
    }
   ],
   "source": [
    "#Train Model\n",
    "item_sim_model_pearson = graphlab.item_similarity_recommender.create(train_data, user_id='UserId', item_id='VID', target='Number_of_Ratings', similarity_type='pearson')\n",
    "\n",
    "#Make Recommendations:\n",
    "item_sim_recomm = item_sim_model_pearson.recommend(users=range(1,6),k=5)\n",
    "item_sim_recomm.print_rows(num_rows=25)"
   ]
  },
  {
   "cell_type": "code",
   "execution_count": 47,
   "metadata": {},
   "outputs": [
    {
     "name": "stdout",
     "output_type": "stream",
     "text": [
      "PROGRESS: Evaluate model M0\n",
      "\n",
      "Precision and recall summary statistics by cutoff\n",
      "+--------+-----------------+-----------------+\n",
      "| cutoff |  mean_precision |   mean_recall   |\n",
      "+--------+-----------------+-----------------+\n",
      "|   1    |       0.0       |       0.0       |\n",
      "|   2    |       0.0       |       0.0       |\n",
      "|   3    |  0.037037037037 | 0.0532407407407 |\n",
      "|   4    | 0.0277777777778 | 0.0532407407407 |\n",
      "|   5    | 0.0222222222222 | 0.0532407407407 |\n",
      "|   6    | 0.0231481481481 | 0.0578703703704 |\n",
      "|   7    | 0.0198412698413 | 0.0578703703704 |\n",
      "|   8    | 0.0208333333333 | 0.0717592592593 |\n",
      "|   9    | 0.0216049382716 |  0.099537037037 |\n",
      "|   10   | 0.0277777777778 |  0.145833333333 |\n",
      "+--------+-----------------+-----------------+\n",
      "[10 rows x 3 columns]\n",
      "\n",
      "PROGRESS: Evaluate model M1\n",
      "\n",
      "Precision and recall summary statistics by cutoff\n",
      "+--------+-----------------+-----------------+\n",
      "| cutoff |  mean_precision |   mean_recall   |\n",
      "+--------+-----------------+-----------------+\n",
      "|   1    |       0.0       |       0.0       |\n",
      "|   2    |       0.0       |       0.0       |\n",
      "|   3    |  0.037037037037 | 0.0532407407407 |\n",
      "|   4    | 0.0277777777778 | 0.0532407407407 |\n",
      "|   5    | 0.0222222222222 | 0.0532407407407 |\n",
      "|   6    | 0.0231481481481 | 0.0578703703704 |\n",
      "|   7    | 0.0198412698413 | 0.0578703703704 |\n",
      "|   8    | 0.0208333333333 | 0.0717592592593 |\n",
      "|   9    | 0.0216049382716 |  0.099537037037 |\n",
      "|   10   | 0.0277777777778 |  0.145833333333 |\n",
      "+--------+-----------------+-----------------+\n",
      "[10 rows x 3 columns]\n",
      "\n",
      "Model compare metric: precision_recall\n",
      "Error: Requested port is unavailable: None\n"
     ]
    },
    {
     "ename": "AttributeError",
     "evalue": "'NoneType' object has no attribute 'add_variable'",
     "output_type": "error",
     "traceback": [
      "\u001b[1;31m---------------------------------------------------------------------------\u001b[0m",
      "\u001b[1;31mAttributeError\u001b[0m                            Traceback (most recent call last)",
      "\u001b[1;32m<ipython-input-47-31f091197b30>\u001b[0m in \u001b[0;36m<module>\u001b[1;34m()\u001b[0m\n\u001b[0;32m      1\u001b[0m \u001b[0mmodel_performance\u001b[0m \u001b[1;33m=\u001b[0m \u001b[0mgraphlab\u001b[0m\u001b[1;33m.\u001b[0m\u001b[0mcompare\u001b[0m\u001b[1;33m(\u001b[0m\u001b[0mtest_data\u001b[0m\u001b[1;33m,\u001b[0m \u001b[1;33m[\u001b[0m\u001b[0mpopularity_model\u001b[0m\u001b[1;33m,\u001b[0m \u001b[0mitem_sim_model_pearson\u001b[0m\u001b[1;33m]\u001b[0m\u001b[1;33m)\u001b[0m\u001b[1;33m\u001b[0m\u001b[0m\n\u001b[1;32m----> 2\u001b[1;33m \u001b[0mgraphlab\u001b[0m\u001b[1;33m.\u001b[0m\u001b[0mshow_comparison\u001b[0m\u001b[1;33m(\u001b[0m\u001b[0mmodel_performance\u001b[0m\u001b[1;33m,\u001b[0m\u001b[1;33m[\u001b[0m\u001b[0mpopularity_model\u001b[0m\u001b[1;33m,\u001b[0m \u001b[0mitem_sim_model_pearson\u001b[0m\u001b[1;33m]\u001b[0m\u001b[1;33m)\u001b[0m\u001b[1;33m\u001b[0m\u001b[0m\n\u001b[0m",
      "\u001b[1;32mC:\\Users\\Aakash\\Anaconda2.3\\lib\\site-packages\\graphlab\\toolkits\\comparison.pyc\u001b[0m in \u001b[0;36mshow_comparison\u001b[1;34m(model_comp, models)\u001b[0m\n\u001b[0;32m     70\u001b[0m         \u001b[0mmodels\u001b[0m\u001b[1;33m[\u001b[0m\u001b[0mi\u001b[0m\u001b[1;33m]\u001b[0m\u001b[1;33m.\u001b[0m\u001b[0m_get_workflow\u001b[0m\u001b[1;33m(\u001b[0m\u001b[1;33m)\u001b[0m\u001b[1;33m.\u001b[0m\u001b[0madd_comparison\u001b[0m\u001b[1;33m(\u001b[0m\u001b[0mret\u001b[0m\u001b[1;33m)\u001b[0m\u001b[1;33m\u001b[0m\u001b[0m\n\u001b[0;32m     71\u001b[0m \u001b[1;33m\u001b[0m\u001b[0m\n\u001b[1;32m---> 72\u001b[1;33m     \u001b[1;32mreturn\u001b[0m \u001b[0mmodels\u001b[0m\u001b[1;33m[\u001b[0m\u001b[1;36m0\u001b[0m\u001b[1;33m]\u001b[0m\u001b[1;33m.\u001b[0m\u001b[0mshow\u001b[0m\u001b[1;33m(\u001b[0m\u001b[0mview\u001b[0m\u001b[1;33m=\u001b[0m\u001b[1;34m'Comparison'\u001b[0m\u001b[1;33m)\u001b[0m\u001b[1;33m\u001b[0m\u001b[0m\n\u001b[0m\u001b[0;32m     73\u001b[0m \u001b[1;33m\u001b[0m\u001b[0m\n\u001b[0;32m     74\u001b[0m \u001b[1;32mdef\u001b[0m \u001b[0mcompare\u001b[0m\u001b[1;33m(\u001b[0m\u001b[0mdataset\u001b[0m\u001b[1;33m,\u001b[0m \u001b[0mmodels\u001b[0m\u001b[1;33m,\u001b[0m \u001b[1;33m**\u001b[0m\u001b[0mkwargs\u001b[0m\u001b[1;33m)\u001b[0m\u001b[1;33m:\u001b[0m\u001b[1;33m\u001b[0m\u001b[0m\n",
      "\u001b[1;32mC:\\Users\\Aakash\\Anaconda2.3\\lib\\site-packages\\graphlab\\toolkits\\recommender\\util.pyc\u001b[0m in \u001b[0;36mshow\u001b[1;34m(self, view, model_type)\u001b[0m\n\u001b[0;32m   2372\u001b[0m         \u001b[1;33m>>\u001b[0m\u001b[1;33m>\u001b[0m \u001b[0mm\u001b[0m\u001b[1;33m.\u001b[0m\u001b[0mshow\u001b[0m\u001b[1;33m(\u001b[0m\u001b[1;33m)\u001b[0m\u001b[1;33m\u001b[0m\u001b[0m\n\u001b[0;32m   2373\u001b[0m         \"\"\"\n\u001b[1;32m-> 2374\u001b[1;33m         \u001b[1;32mreturn\u001b[0m \u001b[0msuper\u001b[0m\u001b[1;33m(\u001b[0m\u001b[0m_Recommender\u001b[0m\u001b[1;33m,\u001b[0m \u001b[0mself\u001b[0m\u001b[1;33m)\u001b[0m\u001b[1;33m.\u001b[0m\u001b[0mshow\u001b[0m\u001b[1;33m(\u001b[0m\u001b[0mview\u001b[0m\u001b[1;33m=\u001b[0m\u001b[0mview\u001b[0m\u001b[1;33m,\u001b[0m \u001b[0mmodel_type\u001b[0m\u001b[1;33m=\u001b[0m\u001b[0mmodel_type\u001b[0m\u001b[1;33m)\u001b[0m\u001b[1;33m\u001b[0m\u001b[0m\n\u001b[0m\u001b[0;32m   2375\u001b[0m \u001b[1;33m\u001b[0m\u001b[0m\n\u001b[0;32m   2376\u001b[0m     \u001b[1;32mdef\u001b[0m \u001b[0m_get_popularity_baseline\u001b[0m\u001b[1;33m(\u001b[0m\u001b[0mself\u001b[0m\u001b[1;33m)\u001b[0m\u001b[1;33m:\u001b[0m\u001b[1;33m\u001b[0m\u001b[0m\n",
      "\u001b[1;32mC:\\Users\\Aakash\\Anaconda2.3\\lib\\site-packages\\graphlab\\toolkits\\_model.pyc\u001b[0m in \u001b[0;36mshow\u001b[1;34m(self, view, model_type)\u001b[0m\n\u001b[0;32m    483\u001b[0m         \"\"\"\n\u001b[0;32m    484\u001b[0m         \u001b[1;32mfrom\u001b[0m \u001b[0mgraphlab\u001b[0m\u001b[1;33m.\u001b[0m\u001b[0mvisualization\u001b[0m\u001b[1;33m.\u001b[0m\u001b[0mshow\u001b[0m \u001b[1;32mimport\u001b[0m \u001b[0mshow\u001b[0m\u001b[1;33m\u001b[0m\u001b[0m\n\u001b[1;32m--> 485\u001b[1;33m         \u001b[0mshow\u001b[0m\u001b[1;33m(\u001b[0m\u001b[0mself\u001b[0m\u001b[1;33m,\u001b[0m \u001b[0mview\u001b[0m\u001b[1;33m=\u001b[0m\u001b[0mview\u001b[0m\u001b[1;33m,\u001b[0m \u001b[0mmodel_type\u001b[0m\u001b[1;33m=\u001b[0m\u001b[0mmodel_type\u001b[0m\u001b[1;33m)\u001b[0m\u001b[1;33m\u001b[0m\u001b[0m\n\u001b[0m\u001b[0;32m    486\u001b[0m \u001b[1;33m\u001b[0m\u001b[0m\n\u001b[0;32m    487\u001b[0m     \u001b[1;33m@\u001b[0m\u001b[0mclassmethod\u001b[0m\u001b[1;33m\u001b[0m\u001b[0m\n",
      "\u001b[1;32mC:\\Users\\Aakash\\Anaconda2.3\\lib\\site-packages\\multipledispatch\\dispatcher.pyc\u001b[0m in \u001b[0;36m__call__\u001b[1;34m(self, *args, **kwargs)\u001b[0m\n\u001b[0;32m    208\u001b[0m             \u001b[0mself\u001b[0m\u001b[1;33m.\u001b[0m\u001b[0m_cache\u001b[0m\u001b[1;33m[\u001b[0m\u001b[0mtypes\u001b[0m\u001b[1;33m]\u001b[0m \u001b[1;33m=\u001b[0m \u001b[0mfunc\u001b[0m\u001b[1;33m\u001b[0m\u001b[0m\n\u001b[0;32m    209\u001b[0m         \u001b[1;32mtry\u001b[0m\u001b[1;33m:\u001b[0m\u001b[1;33m\u001b[0m\u001b[0m\n\u001b[1;32m--> 210\u001b[1;33m             \u001b[1;32mreturn\u001b[0m \u001b[0mfunc\u001b[0m\u001b[1;33m(\u001b[0m\u001b[1;33m*\u001b[0m\u001b[0margs\u001b[0m\u001b[1;33m,\u001b[0m \u001b[1;33m**\u001b[0m\u001b[0mkwargs\u001b[0m\u001b[1;33m)\u001b[0m\u001b[1;33m\u001b[0m\u001b[0m\n\u001b[0m\u001b[0;32m    211\u001b[0m \u001b[1;33m\u001b[0m\u001b[0m\n\u001b[0;32m    212\u001b[0m         \u001b[1;32mexcept\u001b[0m \u001b[0mMDNotImplementedError\u001b[0m\u001b[1;33m:\u001b[0m\u001b[1;33m\u001b[0m\u001b[0m\n",
      "\u001b[1;32mC:\\Users\\Aakash\\Anaconda2.3\\lib\\site-packages\\graphlab\\canvas\\glc_display_dispatch.pyc\u001b[0m in \u001b[0;36mshow\u001b[1;34m(obj, **kwargs)\u001b[0m\n\u001b[0;32m     56\u001b[0m     \u001b[1;32mimport\u001b[0m \u001b[0mgraphlab\u001b[0m\u001b[1;33m.\u001b[0m\u001b[0mcanvas\u001b[0m\u001b[1;33m.\u001b[0m\u001b[0minspect\u001b[0m\u001b[1;33m\u001b[0m\u001b[0m\n\u001b[0;32m     57\u001b[0m     \u001b[1;32mimport\u001b[0m \u001b[0mgraphlab\u001b[0m\u001b[1;33m.\u001b[0m\u001b[0mcanvas\u001b[0m\u001b[1;33m.\u001b[0m\u001b[0mviews\u001b[0m\u001b[1;33m.\u001b[0m\u001b[0mmodel\u001b[0m\u001b[1;33m\u001b[0m\u001b[0m\n\u001b[1;32m---> 58\u001b[1;33m     \u001b[0mgraphlab\u001b[0m\u001b[1;33m.\u001b[0m\u001b[0mcanvas\u001b[0m\u001b[1;33m.\u001b[0m\u001b[0minspect\u001b[0m\u001b[1;33m.\u001b[0m\u001b[0mfind_vars\u001b[0m\u001b[1;33m(\u001b[0m\u001b[0mobj\u001b[0m\u001b[1;33m)\u001b[0m\u001b[1;33m\u001b[0m\u001b[0m\n\u001b[0m\u001b[0;32m     59\u001b[0m     \u001b[1;32mreturn\u001b[0m \u001b[0mgraphlab\u001b[0m\u001b[1;33m.\u001b[0m\u001b[0mcanvas\u001b[0m\u001b[1;33m.\u001b[0m\u001b[0mshow\u001b[0m\u001b[1;33m(\u001b[0m\u001b[0mgraphlab\u001b[0m\u001b[1;33m.\u001b[0m\u001b[0mcanvas\u001b[0m\u001b[1;33m.\u001b[0m\u001b[0mviews\u001b[0m\u001b[1;33m.\u001b[0m\u001b[0mmodel\u001b[0m\u001b[1;33m.\u001b[0m\u001b[0mModelView\u001b[0m\u001b[1;33m(\u001b[0m\u001b[0mobj\u001b[0m\u001b[1;33m,\u001b[0m \u001b[0mparams\u001b[0m\u001b[1;33m=\u001b[0m\u001b[0mkwargs\u001b[0m\u001b[1;33m)\u001b[0m\u001b[1;33m)\u001b[0m\u001b[1;33m\u001b[0m\u001b[0m\n",
      "\u001b[1;32mC:\\Users\\Aakash\\Anaconda2.3\\lib\\site-packages\\graphlab\\canvas\\inspect.pyc\u001b[0m in \u001b[0;36mfind_vars\u001b[1;34m(var)\u001b[0m\n\u001b[0;32m     42\u001b[0m     \u001b[1;33m(\u001b[0m\u001b[0mvariable_name\u001b[0m\u001b[1;33m,\u001b[0m \u001b[0mvariable\u001b[0m\u001b[1;33m)\u001b[0m \u001b[1;33m=\u001b[0m \u001b[0m_find_variable_name\u001b[0m\u001b[1;33m(\u001b[0m\u001b[0mvar\u001b[0m\u001b[1;33m)\u001b[0m\u001b[1;33m\u001b[0m\u001b[0m\n\u001b[0;32m     43\u001b[0m     \u001b[1;32mif\u001b[0m \u001b[0mvariable_name\u001b[0m \u001b[1;32mis\u001b[0m \u001b[1;32mnot\u001b[0m \u001b[0mNone\u001b[0m\u001b[1;33m:\u001b[0m\u001b[1;33m\u001b[0m\u001b[0m\n\u001b[1;32m---> 44\u001b[1;33m         \u001b[0mtarget\u001b[0m\u001b[1;33m.\u001b[0m\u001b[0madd_variable\u001b[0m\u001b[1;33m(\u001b[0m\u001b[1;33m(\u001b[0m\u001b[0mvariable_name\u001b[0m\u001b[1;33m,\u001b[0m\u001b[1;33m)\u001b[0m\u001b[1;33m,\u001b[0m \u001b[0mvariable\u001b[0m\u001b[1;33m)\u001b[0m\u001b[1;33m\u001b[0m\u001b[0m\n\u001b[0m\u001b[0;32m     45\u001b[0m     \u001b[1;32mreturn\u001b[0m \u001b[0mvariable_name\u001b[0m\u001b[1;33m\u001b[0m\u001b[0m\n\u001b[0;32m     46\u001b[0m \u001b[1;33m\u001b[0m\u001b[0m\n",
      "\u001b[1;31mAttributeError\u001b[0m: 'NoneType' object has no attribute 'add_variable'"
     ]
    }
   ],
   "source": [
    "model_performance = graphlab.compare(test_data, [popularity_model, item_sim_model_pearson])\n",
    "graphlab.show_comparison(model_performance,[popularity_model, item_sim_model_pearson])"
   ]
  },
  {
   "cell_type": "code",
   "execution_count": null,
   "metadata": {},
   "outputs": [],
   "source": []
  }
 ],
 "metadata": {
  "kernelspec": {
   "display_name": "Python 2",
   "language": "python",
   "name": "python2"
  },
  "language_info": {
   "codemirror_mode": {
    "name": "ipython",
    "version": 2
   },
   "file_extension": ".py",
   "mimetype": "text/x-python",
   "name": "python",
   "nbconvert_exporter": "python",
   "pygments_lexer": "ipython2",
   "version": "2.7.15"
  }
 },
 "nbformat": 4,
 "nbformat_minor": 2
}
